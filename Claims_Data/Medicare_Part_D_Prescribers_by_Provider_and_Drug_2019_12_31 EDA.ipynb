{
 "cells": [
  {
   "cell_type": "code",
   "execution_count": 1,
   "metadata": {},
   "outputs": [],
   "source": [
    "#https://journalofbigdata.springeropen.com/articles/10.1186/s40537-018-0138-3\n",
    "#https://www.cms.gov/Research-Statistics-Data-and-Systems/Statistics-Trends-and-Reports/Medicare-Provider-Charge-Data/Downloads/Prescriber_Methods.pdf\n",
    "#https://www.cms.gov/Research-Statistics-Data-and-Systems/Statistics-Trends-and-Reports/Medicare-Provider-Charge-Data/Downloads/Prescriber_Methods.pdf\n",
    "#https://oig.hhs.gov/exclusions/exclusions_list.asp - LEIE Dataset\n",
    "import pandas as pd\n",
    "import numpy as np\n",
    "import matplotlib.pyplot as plt\n",
    "import seaborn as sns"
   ]
  },
  {
   "cell_type": "code",
   "execution_count": 2,
   "metadata": {},
   "outputs": [],
   "source": [
    "#Part D data can be considered to provide procedure-level information.\n",
    "my_list = []\n",
    "for chunk in  pd.read_csv(r'D:\\Data _Science\\IndependentResearch\\provider_charge_data\\Medicare_Part_D_Prescribers_by_Provider_and_Drug_2019_12_31\\Medicare_Part_D_Prescribers_by_Provider_and_Drug_2019_12_31.csv', chunksize=20000,encoding='latin-1',low_memory=False, error_bad_lines = False):\n",
    "    my_list.append(chunk)\n"
   ]
  },
  {
   "cell_type": "code",
   "execution_count": 3,
   "metadata": {},
   "outputs": [],
   "source": [
    "df= pd.concat(my_list, axis= 0)"
   ]
  },
  {
   "cell_type": "code",
   "execution_count": 4,
   "metadata": {},
   "outputs": [
    {
     "data": {
      "text/html": [
       "<div>\n",
       "<style scoped>\n",
       "    .dataframe tbody tr th:only-of-type {\n",
       "        vertical-align: middle;\n",
       "    }\n",
       "\n",
       "    .dataframe tbody tr th {\n",
       "        vertical-align: top;\n",
       "    }\n",
       "\n",
       "    .dataframe thead th {\n",
       "        text-align: right;\n",
       "    }\n",
       "</style>\n",
       "<table border=\"1\" class=\"dataframe\">\n",
       "  <thead>\n",
       "    <tr style=\"text-align: right;\">\n",
       "      <th></th>\n",
       "      <th>Prscrbr_NPI</th>\n",
       "      <th>Prscrbr_Last_Org_Name</th>\n",
       "      <th>Prscrbr_First_Name</th>\n",
       "      <th>Prscrbr_City</th>\n",
       "      <th>Prscrbr_State_Abrvtn</th>\n",
       "      <th>Prscrbr_State_FIPS</th>\n",
       "      <th>Prscrbr_Type</th>\n",
       "      <th>Prscrbr_Type_Src</th>\n",
       "      <th>Brnd_Name</th>\n",
       "      <th>Gnrc_Name</th>\n",
       "      <th>...</th>\n",
       "      <th>Tot_Day_Suply</th>\n",
       "      <th>Tot_Drug_Cst</th>\n",
       "      <th>Tot_Benes</th>\n",
       "      <th>GE65_Sprsn_Flag</th>\n",
       "      <th>GE65_Tot_Clms</th>\n",
       "      <th>GE65_Tot_30day_Fills</th>\n",
       "      <th>GE65_Tot_Drug_Cst</th>\n",
       "      <th>GE65_Tot_Day_Suply</th>\n",
       "      <th>GE65_Bene_Sprsn_Flag</th>\n",
       "      <th>GE65_Tot_Benes</th>\n",
       "    </tr>\n",
       "  </thead>\n",
       "  <tbody>\n",
       "    <tr>\n",
       "      <th>0</th>\n",
       "      <td>1003000126</td>\n",
       "      <td>Enkeshafi</td>\n",
       "      <td>Ardalan</td>\n",
       "      <td>Cumberland</td>\n",
       "      <td>MD</td>\n",
       "      <td>24</td>\n",
       "      <td>Internal Medicine</td>\n",
       "      <td>S</td>\n",
       "      <td>Amiodarone Hcl</td>\n",
       "      <td>Amiodarone Hcl</td>\n",
       "      <td>...</td>\n",
       "      <td>360</td>\n",
       "      <td>150.76</td>\n",
       "      <td>NaN</td>\n",
       "      <td>NaN</td>\n",
       "      <td>13.0</td>\n",
       "      <td>13.0</td>\n",
       "      <td>150.76</td>\n",
       "      <td>360.0</td>\n",
       "      <td>*</td>\n",
       "      <td>NaN</td>\n",
       "    </tr>\n",
       "    <tr>\n",
       "      <th>1</th>\n",
       "      <td>1003000126</td>\n",
       "      <td>Enkeshafi</td>\n",
       "      <td>Ardalan</td>\n",
       "      <td>Cumberland</td>\n",
       "      <td>MD</td>\n",
       "      <td>24</td>\n",
       "      <td>Internal Medicine</td>\n",
       "      <td>S</td>\n",
       "      <td>Amlodipine Besylate</td>\n",
       "      <td>Amlodipine Besylate</td>\n",
       "      <td>...</td>\n",
       "      <td>780</td>\n",
       "      <td>92.81</td>\n",
       "      <td>12.0</td>\n",
       "      <td>NaN</td>\n",
       "      <td>22.0</td>\n",
       "      <td>26.0</td>\n",
       "      <td>92.81</td>\n",
       "      <td>780.0</td>\n",
       "      <td>NaN</td>\n",
       "      <td>12.0</td>\n",
       "    </tr>\n",
       "    <tr>\n",
       "      <th>2</th>\n",
       "      <td>1003000126</td>\n",
       "      <td>Enkeshafi</td>\n",
       "      <td>Ardalan</td>\n",
       "      <td>Cumberland</td>\n",
       "      <td>MD</td>\n",
       "      <td>24</td>\n",
       "      <td>Internal Medicine</td>\n",
       "      <td>S</td>\n",
       "      <td>Atorvastatin Calcium</td>\n",
       "      <td>Atorvastatin Calcium</td>\n",
       "      <td>...</td>\n",
       "      <td>1482</td>\n",
       "      <td>373.60</td>\n",
       "      <td>22.0</td>\n",
       "      <td>NaN</td>\n",
       "      <td>41.0</td>\n",
       "      <td>50.0</td>\n",
       "      <td>373.60</td>\n",
       "      <td>1482.0</td>\n",
       "      <td>NaN</td>\n",
       "      <td>22.0</td>\n",
       "    </tr>\n",
       "    <tr>\n",
       "      <th>3</th>\n",
       "      <td>1003000126</td>\n",
       "      <td>Enkeshafi</td>\n",
       "      <td>Ardalan</td>\n",
       "      <td>Cumberland</td>\n",
       "      <td>MD</td>\n",
       "      <td>24</td>\n",
       "      <td>Internal Medicine</td>\n",
       "      <td>S</td>\n",
       "      <td>Azithromycin</td>\n",
       "      <td>Azithromycin</td>\n",
       "      <td>...</td>\n",
       "      <td>77</td>\n",
       "      <td>132.57</td>\n",
       "      <td>15.0</td>\n",
       "      <td>#</td>\n",
       "      <td>NaN</td>\n",
       "      <td>NaN</td>\n",
       "      <td>NaN</td>\n",
       "      <td>NaN</td>\n",
       "      <td>#</td>\n",
       "      <td>NaN</td>\n",
       "    </tr>\n",
       "    <tr>\n",
       "      <th>4</th>\n",
       "      <td>1003000126</td>\n",
       "      <td>Enkeshafi</td>\n",
       "      <td>Ardalan</td>\n",
       "      <td>Cumberland</td>\n",
       "      <td>MD</td>\n",
       "      <td>24</td>\n",
       "      <td>Internal Medicine</td>\n",
       "      <td>S</td>\n",
       "      <td>Carvedilol</td>\n",
       "      <td>Carvedilol</td>\n",
       "      <td>...</td>\n",
       "      <td>787</td>\n",
       "      <td>118.53</td>\n",
       "      <td>11.0</td>\n",
       "      <td>NaN</td>\n",
       "      <td>21.0</td>\n",
       "      <td>27.0</td>\n",
       "      <td>118.53</td>\n",
       "      <td>787.0</td>\n",
       "      <td>NaN</td>\n",
       "      <td>11.0</td>\n",
       "    </tr>\n",
       "  </tbody>\n",
       "</table>\n",
       "<p>5 rows × 22 columns</p>\n",
       "</div>"
      ],
      "text/plain": [
       "   Prscrbr_NPI Prscrbr_Last_Org_Name Prscrbr_First_Name Prscrbr_City  \\\n",
       "0   1003000126             Enkeshafi            Ardalan   Cumberland   \n",
       "1   1003000126             Enkeshafi            Ardalan   Cumberland   \n",
       "2   1003000126             Enkeshafi            Ardalan   Cumberland   \n",
       "3   1003000126             Enkeshafi            Ardalan   Cumberland   \n",
       "4   1003000126             Enkeshafi            Ardalan   Cumberland   \n",
       "\n",
       "  Prscrbr_State_Abrvtn Prscrbr_State_FIPS       Prscrbr_Type Prscrbr_Type_Src  \\\n",
       "0                   MD                 24  Internal Medicine                S   \n",
       "1                   MD                 24  Internal Medicine                S   \n",
       "2                   MD                 24  Internal Medicine                S   \n",
       "3                   MD                 24  Internal Medicine                S   \n",
       "4                   MD                 24  Internal Medicine                S   \n",
       "\n",
       "              Brnd_Name             Gnrc_Name  ...  Tot_Day_Suply  \\\n",
       "0        Amiodarone Hcl        Amiodarone Hcl  ...            360   \n",
       "1   Amlodipine Besylate   Amlodipine Besylate  ...            780   \n",
       "2  Atorvastatin Calcium  Atorvastatin Calcium  ...           1482   \n",
       "3          Azithromycin          Azithromycin  ...             77   \n",
       "4            Carvedilol            Carvedilol  ...            787   \n",
       "\n",
       "   Tot_Drug_Cst  Tot_Benes  GE65_Sprsn_Flag  GE65_Tot_Clms  \\\n",
       "0        150.76        NaN              NaN           13.0   \n",
       "1         92.81       12.0              NaN           22.0   \n",
       "2        373.60       22.0              NaN           41.0   \n",
       "3        132.57       15.0                #            NaN   \n",
       "4        118.53       11.0              NaN           21.0   \n",
       "\n",
       "  GE65_Tot_30day_Fills  GE65_Tot_Drug_Cst  GE65_Tot_Day_Suply  \\\n",
       "0                 13.0             150.76               360.0   \n",
       "1                 26.0              92.81               780.0   \n",
       "2                 50.0             373.60              1482.0   \n",
       "3                  NaN                NaN                 NaN   \n",
       "4                 27.0             118.53               787.0   \n",
       "\n",
       "   GE65_Bene_Sprsn_Flag  GE65_Tot_Benes  \n",
       "0                     *             NaN  \n",
       "1                   NaN            12.0  \n",
       "2                   NaN            22.0  \n",
       "3                     #             NaN  \n",
       "4                   NaN            11.0  \n",
       "\n",
       "[5 rows x 22 columns]"
      ]
     },
     "execution_count": 4,
     "metadata": {},
     "output_type": "execute_result"
    }
   ],
   "source": [
    "df.head()"
   ]
  },
  {
   "cell_type": "code",
   "execution_count": 5,
   "metadata": {},
   "outputs": [
    {
     "name": "stdout",
     "output_type": "stream",
     "text": [
      "<class 'pandas.core.frame.DataFrame'>\n",
      "RangeIndex: 25401870 entries, 0 to 25401869\n",
      "Data columns (total 22 columns):\n",
      " #   Column                 Dtype  \n",
      "---  ------                 -----  \n",
      " 0   Prscrbr_NPI            int64  \n",
      " 1   Prscrbr_Last_Org_Name  object \n",
      " 2   Prscrbr_First_Name     object \n",
      " 3   Prscrbr_City           object \n",
      " 4   Prscrbr_State_Abrvtn   object \n",
      " 5   Prscrbr_State_FIPS     object \n",
      " 6   Prscrbr_Type           object \n",
      " 7   Prscrbr_Type_Src       object \n",
      " 8   Brnd_Name              object \n",
      " 9   Gnrc_Name              object \n",
      " 10  Tot_Clms               int64  \n",
      " 11  Tot_30day_Fills        float64\n",
      " 12  Tot_Day_Suply          int64  \n",
      " 13  Tot_Drug_Cst           float64\n",
      " 14  Tot_Benes              float64\n",
      " 15  GE65_Sprsn_Flag        object \n",
      " 16  GE65_Tot_Clms          float64\n",
      " 17  GE65_Tot_30day_Fills   float64\n",
      " 18  GE65_Tot_Drug_Cst      float64\n",
      " 19  GE65_Tot_Day_Suply     float64\n",
      " 20  GE65_Bene_Sprsn_Flag   object \n",
      " 21  GE65_Tot_Benes         float64\n",
      "dtypes: float64(8), int64(3), object(11)\n",
      "memory usage: 4.2+ GB\n"
     ]
    }
   ],
   "source": [
    "df.info()"
   ]
  },
  {
   "cell_type": "code",
   "execution_count": 6,
   "metadata": {},
   "outputs": [
    {
     "data": {
      "text/html": [
       "<div>\n",
       "<style scoped>\n",
       "    .dataframe tbody tr th:only-of-type {\n",
       "        vertical-align: middle;\n",
       "    }\n",
       "\n",
       "    .dataframe tbody tr th {\n",
       "        vertical-align: top;\n",
       "    }\n",
       "\n",
       "    .dataframe thead th {\n",
       "        text-align: right;\n",
       "    }\n",
       "</style>\n",
       "<table border=\"1\" class=\"dataframe\">\n",
       "  <thead>\n",
       "    <tr style=\"text-align: right;\">\n",
       "      <th></th>\n",
       "      <th>Prscrbr_NPI</th>\n",
       "      <th>Tot_Clms</th>\n",
       "      <th>Tot_30day_Fills</th>\n",
       "      <th>Tot_Day_Suply</th>\n",
       "      <th>Tot_Drug_Cst</th>\n",
       "      <th>Tot_Benes</th>\n",
       "      <th>GE65_Tot_Clms</th>\n",
       "      <th>GE65_Tot_30day_Fills</th>\n",
       "      <th>GE65_Tot_Drug_Cst</th>\n",
       "      <th>GE65_Tot_Day_Suply</th>\n",
       "      <th>GE65_Tot_Benes</th>\n",
       "    </tr>\n",
       "  </thead>\n",
       "  <tbody>\n",
       "    <tr>\n",
       "      <th>count</th>\n",
       "      <td>2.540187e+07</td>\n",
       "      <td>2.540187e+07</td>\n",
       "      <td>2.540187e+07</td>\n",
       "      <td>2.540187e+07</td>\n",
       "      <td>2.540187e+07</td>\n",
       "      <td>1.070614e+07</td>\n",
       "      <td>1.402100e+07</td>\n",
       "      <td>1.402100e+07</td>\n",
       "      <td>1.402100e+07</td>\n",
       "      <td>1.402100e+07</td>\n",
       "      <td>2.589094e+06</td>\n",
       "    </tr>\n",
       "    <tr>\n",
       "      <th>mean</th>\n",
       "      <td>1.499506e+09</td>\n",
       "      <td>5.097666e+01</td>\n",
       "      <td>8.669875e+01</td>\n",
       "      <td>2.433167e+03</td>\n",
       "      <td>5.394291e+03</td>\n",
       "      <td>3.012260e+01</td>\n",
       "      <td>4.962052e+01</td>\n",
       "      <td>8.759334e+01</td>\n",
       "      <td>4.886409e+03</td>\n",
       "      <td>2.487666e+03</td>\n",
       "      <td>3.333644e+01</td>\n",
       "    </tr>\n",
       "    <tr>\n",
       "      <th>std</th>\n",
       "      <td>2.877596e+08</td>\n",
       "      <td>1.272163e+02</td>\n",
       "      <td>1.845877e+02</td>\n",
       "      <td>4.700585e+03</td>\n",
       "      <td>3.749361e+04</td>\n",
       "      <td>1.039127e+02</td>\n",
       "      <td>1.488382e+02</td>\n",
       "      <td>2.084941e+02</td>\n",
       "      <td>3.666938e+04</td>\n",
       "      <td>5.024198e+03</td>\n",
       "      <td>1.961413e+02</td>\n",
       "    </tr>\n",
       "    <tr>\n",
       "      <th>min</th>\n",
       "      <td>1.003000e+09</td>\n",
       "      <td>1.100000e+01</td>\n",
       "      <td>1.100000e+01</td>\n",
       "      <td>1.000000e+01</td>\n",
       "      <td>0.000000e+00</td>\n",
       "      <td>1.100000e+01</td>\n",
       "      <td>0.000000e+00</td>\n",
       "      <td>0.000000e+00</td>\n",
       "      <td>0.000000e+00</td>\n",
       "      <td>0.000000e+00</td>\n",
       "      <td>0.000000e+00</td>\n",
       "    </tr>\n",
       "    <tr>\n",
       "      <th>25%</th>\n",
       "      <td>1.245673e+09</td>\n",
       "      <td>1.500000e+01</td>\n",
       "      <td>2.100000e+01</td>\n",
       "      <td>4.800000e+02</td>\n",
       "      <td>2.621900e+02</td>\n",
       "      <td>1.400000e+01</td>\n",
       "      <td>1.300000e+01</td>\n",
       "      <td>1.800000e+01</td>\n",
       "      <td>2.248300e+02</td>\n",
       "      <td>4.250000e+02</td>\n",
       "      <td>1.300000e+01</td>\n",
       "    </tr>\n",
       "    <tr>\n",
       "      <th>50%</th>\n",
       "      <td>1.497925e+09</td>\n",
       "      <td>2.400000e+01</td>\n",
       "      <td>3.800000e+01</td>\n",
       "      <td>1.020000e+03</td>\n",
       "      <td>6.713800e+02</td>\n",
       "      <td>2.000000e+01</td>\n",
       "      <td>2.200000e+01</td>\n",
       "      <td>3.600000e+01</td>\n",
       "      <td>6.200600e+02</td>\n",
       "      <td>9.900000e+02</td>\n",
       "      <td>1.900000e+01</td>\n",
       "    </tr>\n",
       "    <tr>\n",
       "      <th>75%</th>\n",
       "      <td>1.740720e+09</td>\n",
       "      <td>5.000000e+01</td>\n",
       "      <td>8.200000e+01</td>\n",
       "      <td>2.310000e+03</td>\n",
       "      <td>2.161750e+03</td>\n",
       "      <td>3.300000e+01</td>\n",
       "      <td>4.700000e+01</td>\n",
       "      <td>8.000000e+01</td>\n",
       "      <td>2.035420e+03</td>\n",
       "      <td>2.250000e+03</td>\n",
       "      <td>3.400000e+01</td>\n",
       "    </tr>\n",
       "    <tr>\n",
       "      <th>max</th>\n",
       "      <td>1.993000e+09</td>\n",
       "      <td>1.993870e+05</td>\n",
       "      <td>2.047677e+05</td>\n",
       "      <td>6.066460e+05</td>\n",
       "      <td>3.343712e+07</td>\n",
       "      <td>1.418610e+05</td>\n",
       "      <td>1.906370e+05</td>\n",
       "      <td>1.957407e+05</td>\n",
       "      <td>3.196401e+07</td>\n",
       "      <td>5.928350e+05</td>\n",
       "      <td>1.355460e+05</td>\n",
       "    </tr>\n",
       "  </tbody>\n",
       "</table>\n",
       "</div>"
      ],
      "text/plain": [
       "        Prscrbr_NPI      Tot_Clms  Tot_30day_Fills  Tot_Day_Suply  \\\n",
       "count  2.540187e+07  2.540187e+07     2.540187e+07   2.540187e+07   \n",
       "mean   1.499506e+09  5.097666e+01     8.669875e+01   2.433167e+03   \n",
       "std    2.877596e+08  1.272163e+02     1.845877e+02   4.700585e+03   \n",
       "min    1.003000e+09  1.100000e+01     1.100000e+01   1.000000e+01   \n",
       "25%    1.245673e+09  1.500000e+01     2.100000e+01   4.800000e+02   \n",
       "50%    1.497925e+09  2.400000e+01     3.800000e+01   1.020000e+03   \n",
       "75%    1.740720e+09  5.000000e+01     8.200000e+01   2.310000e+03   \n",
       "max    1.993000e+09  1.993870e+05     2.047677e+05   6.066460e+05   \n",
       "\n",
       "       Tot_Drug_Cst     Tot_Benes  GE65_Tot_Clms  GE65_Tot_30day_Fills  \\\n",
       "count  2.540187e+07  1.070614e+07   1.402100e+07          1.402100e+07   \n",
       "mean   5.394291e+03  3.012260e+01   4.962052e+01          8.759334e+01   \n",
       "std    3.749361e+04  1.039127e+02   1.488382e+02          2.084941e+02   \n",
       "min    0.000000e+00  1.100000e+01   0.000000e+00          0.000000e+00   \n",
       "25%    2.621900e+02  1.400000e+01   1.300000e+01          1.800000e+01   \n",
       "50%    6.713800e+02  2.000000e+01   2.200000e+01          3.600000e+01   \n",
       "75%    2.161750e+03  3.300000e+01   4.700000e+01          8.000000e+01   \n",
       "max    3.343712e+07  1.418610e+05   1.906370e+05          1.957407e+05   \n",
       "\n",
       "       GE65_Tot_Drug_Cst  GE65_Tot_Day_Suply  GE65_Tot_Benes  \n",
       "count       1.402100e+07        1.402100e+07    2.589094e+06  \n",
       "mean        4.886409e+03        2.487666e+03    3.333644e+01  \n",
       "std         3.666938e+04        5.024198e+03    1.961413e+02  \n",
       "min         0.000000e+00        0.000000e+00    0.000000e+00  \n",
       "25%         2.248300e+02        4.250000e+02    1.300000e+01  \n",
       "50%         6.200600e+02        9.900000e+02    1.900000e+01  \n",
       "75%         2.035420e+03        2.250000e+03    3.400000e+01  \n",
       "max         3.196401e+07        5.928350e+05    1.355460e+05  "
      ]
     },
     "execution_count": 6,
     "metadata": {},
     "output_type": "execute_result"
    }
   ],
   "source": [
    "df.describe()"
   ]
  },
  {
   "cell_type": "markdown",
   "metadata": {},
   "source": [
    "## 1. Inspecting the null % "
   ]
  },
  {
   "cell_type": "code",
   "execution_count": 7,
   "metadata": {},
   "outputs": [
    {
     "data": {
      "text/plain": [
       "Prscrbr_NPI               0.000000\n",
       "Prscrbr_Last_Org_Name     0.000000\n",
       "Prscrbr_First_Name        0.000000\n",
       "Prscrbr_City              0.000000\n",
       "Prscrbr_State_Abrvtn      0.000000\n",
       "Prscrbr_State_FIPS        0.000000\n",
       "Prscrbr_Type              0.000008\n",
       "Prscrbr_Type_Src          0.000000\n",
       "Brnd_Name                 0.000000\n",
       "Gnrc_Name                 0.000000\n",
       "Tot_Clms                  0.000000\n",
       "Tot_30day_Fills           0.000000\n",
       "Tot_Day_Suply             0.000000\n",
       "Tot_Drug_Cst              0.000000\n",
       "Tot_Benes                57.852938\n",
       "GE65_Sprsn_Flag          55.196728\n",
       "GE65_Tot_Clms            44.803272\n",
       "GE65_Tot_30day_Fills     44.803272\n",
       "GE65_Tot_Drug_Cst        44.803272\n",
       "GE65_Tot_Day_Suply       44.803272\n",
       "GE65_Bene_Sprsn_Flag     10.192533\n",
       "GE65_Tot_Benes           89.807467\n",
       "dtype: float64"
      ]
     },
     "execution_count": 7,
     "metadata": {},
     "output_type": "execute_result"
    }
   ],
   "source": [
    "colnames=(df.isnull().sum()*100/len(df)) \n",
    "colnames"
   ]
  },
  {
   "cell_type": "markdown",
   "metadata": {},
   "source": [
    "### Inference \n",
    "- Tot_Benes                57.852938\n",
    "- GE65_Sprsn_Flag          55.196728\n",
    "- GE65_Tot_Clms            44.803272\n",
    "- GE65_Tot_30day_Fills     44.803272\n",
    "- GE65_Tot_Drug_Cst        44.803272\n",
    "- GE65_Tot_Day_Suply       44.803272\n",
    "- GE65_Bene_Sprsn_Flag     10.192533\n",
    "- GE65_Tot_Benes           89.807467\n",
    "\n",
    "GE65_Tot_Benes seems to have a lot of nulls this column might not be of use . \n",
    "\n"
   ]
  },
  {
   "cell_type": "code",
   "execution_count": 8,
   "metadata": {},
   "outputs": [
    {
     "data": {
      "text/plain": [
       "['Prscrbr_Last_Org_Name',\n",
       " 'Prscrbr_First_Name',\n",
       " 'Prscrbr_City',\n",
       " 'Prscrbr_State_Abrvtn',\n",
       " 'Prscrbr_State_FIPS',\n",
       " 'Prscrbr_Type',\n",
       " 'Prscrbr_Type_Src',\n",
       " 'Brnd_Name',\n",
       " 'Gnrc_Name',\n",
       " 'GE65_Sprsn_Flag',\n",
       " 'GE65_Bene_Sprsn_Flag']"
      ]
     },
     "execution_count": 8,
     "metadata": {},
     "output_type": "execute_result"
    }
   ],
   "source": [
    "cat_vals = df.select_dtypes(include=['object']).columns\n",
    "cat_vals=cat_vals.to_list()\n",
    "cat_vals"
   ]
  },
  {
   "cell_type": "markdown",
   "metadata": {},
   "source": [
    "## GETTING THE UPDATED LEIE DATA"
   ]
  },
  {
   "cell_type": "code",
   "execution_count": 9,
   "metadata": {},
   "outputs": [
    {
     "name": "stderr",
     "output_type": "stream",
     "text": [
      "D:\\Anaconda\\lib\\site-packages\\IPython\\core\\interactiveshell.py:3071: DtypeWarning: Columns (3) have mixed types.Specify dtype option on import or set low_memory=False.\n",
      "  has_raised = await self.run_ast_nodes(code_ast.body, cell_name,\n"
     ]
    },
    {
     "data": {
      "text/html": [
       "<div>\n",
       "<style scoped>\n",
       "    .dataframe tbody tr th:only-of-type {\n",
       "        vertical-align: middle;\n",
       "    }\n",
       "\n",
       "    .dataframe tbody tr th {\n",
       "        vertical-align: top;\n",
       "    }\n",
       "\n",
       "    .dataframe thead th {\n",
       "        text-align: right;\n",
       "    }\n",
       "</style>\n",
       "<table border=\"1\" class=\"dataframe\">\n",
       "  <thead>\n",
       "    <tr style=\"text-align: right;\">\n",
       "      <th></th>\n",
       "      <th>LASTNAME</th>\n",
       "      <th>FIRSTNAME</th>\n",
       "      <th>MIDNAME</th>\n",
       "      <th>BUSNAME</th>\n",
       "      <th>GENERAL</th>\n",
       "      <th>SPECIALTY</th>\n",
       "      <th>UPIN</th>\n",
       "      <th>NPI</th>\n",
       "      <th>DOB</th>\n",
       "      <th>ADDRESS</th>\n",
       "      <th>CITY</th>\n",
       "      <th>STATE</th>\n",
       "      <th>ZIP</th>\n",
       "      <th>EXCLTYPE</th>\n",
       "      <th>EXCLDATE</th>\n",
       "      <th>REINDATE</th>\n",
       "      <th>WAIVERDATE</th>\n",
       "      <th>WVRSTATE</th>\n",
       "    </tr>\n",
       "  </thead>\n",
       "  <tbody>\n",
       "    <tr>\n",
       "      <th>0</th>\n",
       "      <td>NaN</td>\n",
       "      <td>NaN</td>\n",
       "      <td></td>\n",
       "      <td>#1 MARKETING SERVICE, INC</td>\n",
       "      <td>OTHER BUSINESS</td>\n",
       "      <td>SOBER HOME</td>\n",
       "      <td>NaN</td>\n",
       "      <td>0</td>\n",
       "      <td>NaN</td>\n",
       "      <td>239 BRIGHTON BEACH AVENUE</td>\n",
       "      <td>BROOKLYN</td>\n",
       "      <td>NY</td>\n",
       "      <td>11235</td>\n",
       "      <td>1128a1</td>\n",
       "      <td>20200319</td>\n",
       "      <td>0</td>\n",
       "      <td>0</td>\n",
       "      <td>NaN</td>\n",
       "    </tr>\n",
       "    <tr>\n",
       "      <th>1</th>\n",
       "      <td>NaN</td>\n",
       "      <td>NaN</td>\n",
       "      <td></td>\n",
       "      <td>14 LAWRENCE AVE PHARMACY</td>\n",
       "      <td>PHARMACY</td>\n",
       "      <td>NaN</td>\n",
       "      <td>NaN</td>\n",
       "      <td>0</td>\n",
       "      <td>NaN</td>\n",
       "      <td>14 LAWRENCE AVENUE</td>\n",
       "      <td>SMITHTOWN</td>\n",
       "      <td>NY</td>\n",
       "      <td>11787</td>\n",
       "      <td>1128a1</td>\n",
       "      <td>19880830</td>\n",
       "      <td>0</td>\n",
       "      <td>0</td>\n",
       "      <td>NaN</td>\n",
       "    </tr>\n",
       "    <tr>\n",
       "      <th>2</th>\n",
       "      <td>NaN</td>\n",
       "      <td>NaN</td>\n",
       "      <td></td>\n",
       "      <td>143 MEDICAL EQUIPMENT CO</td>\n",
       "      <td>DME COMPANY</td>\n",
       "      <td>DME - OXYGEN</td>\n",
       "      <td>NaN</td>\n",
       "      <td>0</td>\n",
       "      <td>NaN</td>\n",
       "      <td>701 NW 36 AVENUE</td>\n",
       "      <td>MIAMI</td>\n",
       "      <td>FL</td>\n",
       "      <td>33125</td>\n",
       "      <td>1128b7</td>\n",
       "      <td>19970620</td>\n",
       "      <td>0</td>\n",
       "      <td>0</td>\n",
       "      <td>NaN</td>\n",
       "    </tr>\n",
       "    <tr>\n",
       "      <th>3</th>\n",
       "      <td>NaN</td>\n",
       "      <td>NaN</td>\n",
       "      <td></td>\n",
       "      <td>184TH STREET PHARMACY CORP</td>\n",
       "      <td>OTHER BUSINESS</td>\n",
       "      <td>PHARMACY</td>\n",
       "      <td>NaN</td>\n",
       "      <td>1922348218</td>\n",
       "      <td>NaN</td>\n",
       "      <td>69 E 184TH ST</td>\n",
       "      <td>BRONX</td>\n",
       "      <td>NY</td>\n",
       "      <td>10468</td>\n",
       "      <td>1128a1</td>\n",
       "      <td>20180419</td>\n",
       "      <td>0</td>\n",
       "      <td>0</td>\n",
       "      <td>NaN</td>\n",
       "    </tr>\n",
       "    <tr>\n",
       "      <th>4</th>\n",
       "      <td>NaN</td>\n",
       "      <td>NaN</td>\n",
       "      <td></td>\n",
       "      <td>1951 FLATBUSH AVENUE PHARMACY</td>\n",
       "      <td>PHARMACY</td>\n",
       "      <td>NaN</td>\n",
       "      <td>NaN</td>\n",
       "      <td>0</td>\n",
       "      <td>NaN</td>\n",
       "      <td>1951 FLATBUSH AVE</td>\n",
       "      <td>BROOKLYN</td>\n",
       "      <td>NY</td>\n",
       "      <td>11234</td>\n",
       "      <td>1128b5</td>\n",
       "      <td>20090319</td>\n",
       "      <td>0</td>\n",
       "      <td>0</td>\n",
       "      <td>NaN</td>\n",
       "    </tr>\n",
       "  </tbody>\n",
       "</table>\n",
       "</div>"
      ],
      "text/plain": [
       "  LASTNAME FIRSTNAME MIDNAME                        BUSNAME         GENERAL  \\\n",
       "0      NaN       NaN              #1 MARKETING SERVICE, INC  OTHER BUSINESS   \n",
       "1      NaN       NaN               14 LAWRENCE AVE PHARMACY        PHARMACY   \n",
       "2      NaN       NaN               143 MEDICAL EQUIPMENT CO     DME COMPANY   \n",
       "3      NaN       NaN             184TH STREET PHARMACY CORP  OTHER BUSINESS   \n",
       "4      NaN       NaN          1951 FLATBUSH AVENUE PHARMACY        PHARMACY   \n",
       "\n",
       "      SPECIALTY UPIN         NPI  DOB                    ADDRESS       CITY  \\\n",
       "0    SOBER HOME  NaN           0  NaN  239 BRIGHTON BEACH AVENUE   BROOKLYN   \n",
       "1           NaN  NaN           0  NaN         14 LAWRENCE AVENUE  SMITHTOWN   \n",
       "2  DME - OXYGEN  NaN           0  NaN           701 NW 36 AVENUE      MIAMI   \n",
       "3      PHARMACY  NaN  1922348218  NaN              69 E 184TH ST      BRONX   \n",
       "4           NaN  NaN           0  NaN          1951 FLATBUSH AVE   BROOKLYN   \n",
       "\n",
       "  STATE    ZIP EXCLTYPE  EXCLDATE  REINDATE  WAIVERDATE WVRSTATE  \n",
       "0    NY  11235   1128a1  20200319         0           0      NaN  \n",
       "1    NY  11787   1128a1  19880830         0           0      NaN  \n",
       "2    FL  33125   1128b7  19970620         0           0      NaN  \n",
       "3    NY  10468   1128a1  20180419         0           0      NaN  \n",
       "4    NY  11234   1128b5  20090319         0           0      NaN  "
      ]
     },
     "execution_count": 9,
     "metadata": {},
     "output_type": "execute_result"
    }
   ],
   "source": [
    "df_leie = pd.read_csv(r'D:\\Data _Science\\IndependentResearch\\provider_charge_data\\UPDATED_LEIE.csv')\n",
    "df_leie.head(5)"
   ]
  },
  {
   "cell_type": "markdown",
   "metadata": {},
   "source": [
    "### We will consider those where NPI is not 0 and will consider only 2 columns  NPI and EXCLTYPE"
   ]
  },
  {
   "cell_type": "code",
   "execution_count": 10,
   "metadata": {},
   "outputs": [
    {
     "data": {
      "text/html": [
       "<div>\n",
       "<style scoped>\n",
       "    .dataframe tbody tr th:only-of-type {\n",
       "        vertical-align: middle;\n",
       "    }\n",
       "\n",
       "    .dataframe tbody tr th {\n",
       "        vertical-align: top;\n",
       "    }\n",
       "\n",
       "    .dataframe thead th {\n",
       "        text-align: right;\n",
       "    }\n",
       "</style>\n",
       "<table border=\"1\" class=\"dataframe\">\n",
       "  <thead>\n",
       "    <tr style=\"text-align: right;\">\n",
       "      <th></th>\n",
       "      <th>NPI</th>\n",
       "      <th>EXCLTYPE</th>\n",
       "    </tr>\n",
       "  </thead>\n",
       "  <tbody>\n",
       "    <tr>\n",
       "      <th>0</th>\n",
       "      <td>0</td>\n",
       "      <td>1128a1</td>\n",
       "    </tr>\n",
       "    <tr>\n",
       "      <th>1</th>\n",
       "      <td>0</td>\n",
       "      <td>1128a1</td>\n",
       "    </tr>\n",
       "    <tr>\n",
       "      <th>2</th>\n",
       "      <td>0</td>\n",
       "      <td>1128b7</td>\n",
       "    </tr>\n",
       "    <tr>\n",
       "      <th>3</th>\n",
       "      <td>1922348218</td>\n",
       "      <td>1128a1</td>\n",
       "    </tr>\n",
       "    <tr>\n",
       "      <th>4</th>\n",
       "      <td>0</td>\n",
       "      <td>1128b5</td>\n",
       "    </tr>\n",
       "  </tbody>\n",
       "</table>\n",
       "</div>"
      ],
      "text/plain": [
       "          NPI EXCLTYPE\n",
       "0           0   1128a1\n",
       "1           0   1128a1\n",
       "2           0   1128b7\n",
       "3  1922348218   1128a1\n",
       "4           0   1128b5"
      ]
     },
     "execution_count": 10,
     "metadata": {},
     "output_type": "execute_result"
    }
   ],
   "source": [
    "df_leie_rq = df_leie.loc[:,['NPI','EXCLTYPE']]\n",
    "df_leie_rq.head()"
   ]
  },
  {
   "cell_type": "code",
   "execution_count": 11,
   "metadata": {},
   "outputs": [
    {
     "data": {
      "text/html": [
       "<div>\n",
       "<style scoped>\n",
       "    .dataframe tbody tr th:only-of-type {\n",
       "        vertical-align: middle;\n",
       "    }\n",
       "\n",
       "    .dataframe tbody tr th {\n",
       "        vertical-align: top;\n",
       "    }\n",
       "\n",
       "    .dataframe thead th {\n",
       "        text-align: right;\n",
       "    }\n",
       "</style>\n",
       "<table border=\"1\" class=\"dataframe\">\n",
       "  <thead>\n",
       "    <tr style=\"text-align: right;\">\n",
       "      <th></th>\n",
       "      <th>NPI</th>\n",
       "      <th>EXCLTYPE</th>\n",
       "    </tr>\n",
       "  </thead>\n",
       "  <tbody>\n",
       "    <tr>\n",
       "      <th>3</th>\n",
       "      <td>1922348218</td>\n",
       "      <td>1128a1</td>\n",
       "    </tr>\n",
       "    <tr>\n",
       "      <th>23</th>\n",
       "      <td>1942476080</td>\n",
       "      <td>1128b8</td>\n",
       "    </tr>\n",
       "    <tr>\n",
       "      <th>27</th>\n",
       "      <td>1275600959</td>\n",
       "      <td>1128a1</td>\n",
       "    </tr>\n",
       "    <tr>\n",
       "      <th>30</th>\n",
       "      <td>1891731758</td>\n",
       "      <td>1128b8</td>\n",
       "    </tr>\n",
       "    <tr>\n",
       "      <th>58</th>\n",
       "      <td>1851631543</td>\n",
       "      <td>1128b7</td>\n",
       "    </tr>\n",
       "  </tbody>\n",
       "</table>\n",
       "</div>"
      ],
      "text/plain": [
       "           NPI EXCLTYPE\n",
       "3   1922348218   1128a1\n",
       "23  1942476080   1128b8\n",
       "27  1275600959   1128a1\n",
       "30  1891731758   1128b8\n",
       "58  1851631543   1128b7"
      ]
     },
     "execution_count": 11,
     "metadata": {},
     "output_type": "execute_result"
    }
   ],
   "source": [
    "df_leie_rq = df_leie_rq.query('NPI !=0')\n",
    "df_leie_rq.head()"
   ]
  },
  {
   "cell_type": "code",
   "execution_count": 12,
   "metadata": {},
   "outputs": [],
   "source": [
    "rename_dict = {'NPI':'Prscrbr_NPI', 'EXCLTYPE':'is_fraud'} \n",
    "df_leie_rq = df_leie_rq.rename(columns=rename_dict)"
   ]
  },
  {
   "cell_type": "code",
   "execution_count": 13,
   "metadata": {},
   "outputs": [
    {
     "data": {
      "text/html": [
       "<div>\n",
       "<style scoped>\n",
       "    .dataframe tbody tr th:only-of-type {\n",
       "        vertical-align: middle;\n",
       "    }\n",
       "\n",
       "    .dataframe tbody tr th {\n",
       "        vertical-align: top;\n",
       "    }\n",
       "\n",
       "    .dataframe thead th {\n",
       "        text-align: right;\n",
       "    }\n",
       "</style>\n",
       "<table border=\"1\" class=\"dataframe\">\n",
       "  <thead>\n",
       "    <tr style=\"text-align: right;\">\n",
       "      <th></th>\n",
       "      <th>Prscrbr_NPI</th>\n",
       "      <th>is_fraud</th>\n",
       "    </tr>\n",
       "  </thead>\n",
       "  <tbody>\n",
       "    <tr>\n",
       "      <th>3</th>\n",
       "      <td>1922348218</td>\n",
       "      <td>1</td>\n",
       "    </tr>\n",
       "    <tr>\n",
       "      <th>23</th>\n",
       "      <td>1942476080</td>\n",
       "      <td>1</td>\n",
       "    </tr>\n",
       "    <tr>\n",
       "      <th>27</th>\n",
       "      <td>1275600959</td>\n",
       "      <td>1</td>\n",
       "    </tr>\n",
       "    <tr>\n",
       "      <th>30</th>\n",
       "      <td>1891731758</td>\n",
       "      <td>1</td>\n",
       "    </tr>\n",
       "    <tr>\n",
       "      <th>58</th>\n",
       "      <td>1851631543</td>\n",
       "      <td>1</td>\n",
       "    </tr>\n",
       "  </tbody>\n",
       "</table>\n",
       "</div>"
      ],
      "text/plain": [
       "    Prscrbr_NPI  is_fraud\n",
       "3    1922348218         1\n",
       "23   1942476080         1\n",
       "27   1275600959         1\n",
       "30   1891731758         1\n",
       "58   1851631543         1"
      ]
     },
     "execution_count": 13,
     "metadata": {},
     "output_type": "execute_result"
    }
   ],
   "source": [
    "df_leie_rq['is_fraud'] = 1 #These NPI are included in exclusion list , lets consider this as fraudulent records for now.\n",
    "df_leie_rq.head()"
   ]
  },
  {
   "cell_type": "markdown",
   "metadata": {},
   "source": [
    "### Merge the NPI data and the Prscrbr Data "
   ]
  },
  {
   "cell_type": "code",
   "execution_count": 14,
   "metadata": {},
   "outputs": [],
   "source": [
    "df_complete= pd.merge(df, df_leie_rq, on='Prscrbr_NPI' , how = 'left')"
   ]
  },
  {
   "cell_type": "code",
   "execution_count": 15,
   "metadata": {},
   "outputs": [
    {
     "data": {
      "text/plain": [
       "93"
      ]
     },
     "execution_count": 15,
     "metadata": {},
     "output_type": "execute_result"
    }
   ],
   "source": [
    "import gc\n",
    "\n",
    "del [[df]]\n",
    "gc.collect()"
   ]
  },
  {
   "cell_type": "code",
   "execution_count": 16,
   "metadata": {},
   "outputs": [
    {
     "data": {
      "text/html": [
       "<div>\n",
       "<style scoped>\n",
       "    .dataframe tbody tr th:only-of-type {\n",
       "        vertical-align: middle;\n",
       "    }\n",
       "\n",
       "    .dataframe tbody tr th {\n",
       "        vertical-align: top;\n",
       "    }\n",
       "\n",
       "    .dataframe thead th {\n",
       "        text-align: right;\n",
       "    }\n",
       "</style>\n",
       "<table border=\"1\" class=\"dataframe\">\n",
       "  <thead>\n",
       "    <tr style=\"text-align: right;\">\n",
       "      <th></th>\n",
       "      <th>Prscrbr_NPI</th>\n",
       "      <th>Prscrbr_Last_Org_Name</th>\n",
       "      <th>Prscrbr_First_Name</th>\n",
       "      <th>Prscrbr_City</th>\n",
       "      <th>Prscrbr_State_Abrvtn</th>\n",
       "      <th>Prscrbr_State_FIPS</th>\n",
       "      <th>Prscrbr_Type</th>\n",
       "      <th>Prscrbr_Type_Src</th>\n",
       "      <th>Brnd_Name</th>\n",
       "      <th>Gnrc_Name</th>\n",
       "      <th>...</th>\n",
       "      <th>Tot_Drug_Cst</th>\n",
       "      <th>Tot_Benes</th>\n",
       "      <th>GE65_Sprsn_Flag</th>\n",
       "      <th>GE65_Tot_Clms</th>\n",
       "      <th>GE65_Tot_30day_Fills</th>\n",
       "      <th>GE65_Tot_Drug_Cst</th>\n",
       "      <th>GE65_Tot_Day_Suply</th>\n",
       "      <th>GE65_Bene_Sprsn_Flag</th>\n",
       "      <th>GE65_Tot_Benes</th>\n",
       "      <th>is_fraud</th>\n",
       "    </tr>\n",
       "  </thead>\n",
       "  <tbody>\n",
       "    <tr>\n",
       "      <th>0</th>\n",
       "      <td>1003000126</td>\n",
       "      <td>Enkeshafi</td>\n",
       "      <td>Ardalan</td>\n",
       "      <td>Cumberland</td>\n",
       "      <td>MD</td>\n",
       "      <td>24</td>\n",
       "      <td>Internal Medicine</td>\n",
       "      <td>S</td>\n",
       "      <td>Amiodarone Hcl</td>\n",
       "      <td>Amiodarone Hcl</td>\n",
       "      <td>...</td>\n",
       "      <td>150.76</td>\n",
       "      <td>NaN</td>\n",
       "      <td>NaN</td>\n",
       "      <td>13.0</td>\n",
       "      <td>13.0</td>\n",
       "      <td>150.76</td>\n",
       "      <td>360.0</td>\n",
       "      <td>*</td>\n",
       "      <td>NaN</td>\n",
       "      <td>NaN</td>\n",
       "    </tr>\n",
       "    <tr>\n",
       "      <th>1</th>\n",
       "      <td>1003000126</td>\n",
       "      <td>Enkeshafi</td>\n",
       "      <td>Ardalan</td>\n",
       "      <td>Cumberland</td>\n",
       "      <td>MD</td>\n",
       "      <td>24</td>\n",
       "      <td>Internal Medicine</td>\n",
       "      <td>S</td>\n",
       "      <td>Amlodipine Besylate</td>\n",
       "      <td>Amlodipine Besylate</td>\n",
       "      <td>...</td>\n",
       "      <td>92.81</td>\n",
       "      <td>12.0</td>\n",
       "      <td>NaN</td>\n",
       "      <td>22.0</td>\n",
       "      <td>26.0</td>\n",
       "      <td>92.81</td>\n",
       "      <td>780.0</td>\n",
       "      <td>NaN</td>\n",
       "      <td>12.0</td>\n",
       "      <td>NaN</td>\n",
       "    </tr>\n",
       "    <tr>\n",
       "      <th>2</th>\n",
       "      <td>1003000126</td>\n",
       "      <td>Enkeshafi</td>\n",
       "      <td>Ardalan</td>\n",
       "      <td>Cumberland</td>\n",
       "      <td>MD</td>\n",
       "      <td>24</td>\n",
       "      <td>Internal Medicine</td>\n",
       "      <td>S</td>\n",
       "      <td>Atorvastatin Calcium</td>\n",
       "      <td>Atorvastatin Calcium</td>\n",
       "      <td>...</td>\n",
       "      <td>373.60</td>\n",
       "      <td>22.0</td>\n",
       "      <td>NaN</td>\n",
       "      <td>41.0</td>\n",
       "      <td>50.0</td>\n",
       "      <td>373.60</td>\n",
       "      <td>1482.0</td>\n",
       "      <td>NaN</td>\n",
       "      <td>22.0</td>\n",
       "      <td>NaN</td>\n",
       "    </tr>\n",
       "    <tr>\n",
       "      <th>3</th>\n",
       "      <td>1003000126</td>\n",
       "      <td>Enkeshafi</td>\n",
       "      <td>Ardalan</td>\n",
       "      <td>Cumberland</td>\n",
       "      <td>MD</td>\n",
       "      <td>24</td>\n",
       "      <td>Internal Medicine</td>\n",
       "      <td>S</td>\n",
       "      <td>Azithromycin</td>\n",
       "      <td>Azithromycin</td>\n",
       "      <td>...</td>\n",
       "      <td>132.57</td>\n",
       "      <td>15.0</td>\n",
       "      <td>#</td>\n",
       "      <td>NaN</td>\n",
       "      <td>NaN</td>\n",
       "      <td>NaN</td>\n",
       "      <td>NaN</td>\n",
       "      <td>#</td>\n",
       "      <td>NaN</td>\n",
       "      <td>NaN</td>\n",
       "    </tr>\n",
       "    <tr>\n",
       "      <th>4</th>\n",
       "      <td>1003000126</td>\n",
       "      <td>Enkeshafi</td>\n",
       "      <td>Ardalan</td>\n",
       "      <td>Cumberland</td>\n",
       "      <td>MD</td>\n",
       "      <td>24</td>\n",
       "      <td>Internal Medicine</td>\n",
       "      <td>S</td>\n",
       "      <td>Carvedilol</td>\n",
       "      <td>Carvedilol</td>\n",
       "      <td>...</td>\n",
       "      <td>118.53</td>\n",
       "      <td>11.0</td>\n",
       "      <td>NaN</td>\n",
       "      <td>21.0</td>\n",
       "      <td>27.0</td>\n",
       "      <td>118.53</td>\n",
       "      <td>787.0</td>\n",
       "      <td>NaN</td>\n",
       "      <td>11.0</td>\n",
       "      <td>NaN</td>\n",
       "    </tr>\n",
       "  </tbody>\n",
       "</table>\n",
       "<p>5 rows × 23 columns</p>\n",
       "</div>"
      ],
      "text/plain": [
       "   Prscrbr_NPI Prscrbr_Last_Org_Name Prscrbr_First_Name Prscrbr_City  \\\n",
       "0   1003000126             Enkeshafi            Ardalan   Cumberland   \n",
       "1   1003000126             Enkeshafi            Ardalan   Cumberland   \n",
       "2   1003000126             Enkeshafi            Ardalan   Cumberland   \n",
       "3   1003000126             Enkeshafi            Ardalan   Cumberland   \n",
       "4   1003000126             Enkeshafi            Ardalan   Cumberland   \n",
       "\n",
       "  Prscrbr_State_Abrvtn Prscrbr_State_FIPS       Prscrbr_Type Prscrbr_Type_Src  \\\n",
       "0                   MD                 24  Internal Medicine                S   \n",
       "1                   MD                 24  Internal Medicine                S   \n",
       "2                   MD                 24  Internal Medicine                S   \n",
       "3                   MD                 24  Internal Medicine                S   \n",
       "4                   MD                 24  Internal Medicine                S   \n",
       "\n",
       "              Brnd_Name             Gnrc_Name  ...  Tot_Drug_Cst  Tot_Benes  \\\n",
       "0        Amiodarone Hcl        Amiodarone Hcl  ...        150.76        NaN   \n",
       "1   Amlodipine Besylate   Amlodipine Besylate  ...         92.81       12.0   \n",
       "2  Atorvastatin Calcium  Atorvastatin Calcium  ...        373.60       22.0   \n",
       "3          Azithromycin          Azithromycin  ...        132.57       15.0   \n",
       "4            Carvedilol            Carvedilol  ...        118.53       11.0   \n",
       "\n",
       "   GE65_Sprsn_Flag  GE65_Tot_Clms  GE65_Tot_30day_Fills GE65_Tot_Drug_Cst  \\\n",
       "0              NaN           13.0                  13.0            150.76   \n",
       "1              NaN           22.0                  26.0             92.81   \n",
       "2              NaN           41.0                  50.0            373.60   \n",
       "3                #            NaN                   NaN               NaN   \n",
       "4              NaN           21.0                  27.0            118.53   \n",
       "\n",
       "   GE65_Tot_Day_Suply  GE65_Bene_Sprsn_Flag  GE65_Tot_Benes  is_fraud  \n",
       "0               360.0                     *             NaN       NaN  \n",
       "1               780.0                   NaN            12.0       NaN  \n",
       "2              1482.0                   NaN            22.0       NaN  \n",
       "3                 NaN                     #             NaN       NaN  \n",
       "4               787.0                   NaN            11.0       NaN  \n",
       "\n",
       "[5 rows x 23 columns]"
      ]
     },
     "execution_count": 16,
     "metadata": {},
     "output_type": "execute_result"
    }
   ],
   "source": [
    "df_complete.head()"
   ]
  },
  {
   "cell_type": "code",
   "execution_count": 17,
   "metadata": {},
   "outputs": [
    {
     "name": "stdout",
     "output_type": "stream",
     "text": [
      "<class 'pandas.core.frame.DataFrame'>\n",
      "Int64Index: 25401870 entries, 0 to 25401869\n",
      "Data columns (total 23 columns):\n",
      " #   Column                 Dtype  \n",
      "---  ------                 -----  \n",
      " 0   Prscrbr_NPI            int64  \n",
      " 1   Prscrbr_Last_Org_Name  object \n",
      " 2   Prscrbr_First_Name     object \n",
      " 3   Prscrbr_City           object \n",
      " 4   Prscrbr_State_Abrvtn   object \n",
      " 5   Prscrbr_State_FIPS     object \n",
      " 6   Prscrbr_Type           object \n",
      " 7   Prscrbr_Type_Src       object \n",
      " 8   Brnd_Name              object \n",
      " 9   Gnrc_Name              object \n",
      " 10  Tot_Clms               int64  \n",
      " 11  Tot_30day_Fills        float64\n",
      " 12  Tot_Day_Suply          int64  \n",
      " 13  Tot_Drug_Cst           float64\n",
      " 14  Tot_Benes              float64\n",
      " 15  GE65_Sprsn_Flag        object \n",
      " 16  GE65_Tot_Clms          float64\n",
      " 17  GE65_Tot_30day_Fills   float64\n",
      " 18  GE65_Tot_Drug_Cst      float64\n",
      " 19  GE65_Tot_Day_Suply     float64\n",
      " 20  GE65_Bene_Sprsn_Flag   object \n",
      " 21  GE65_Tot_Benes         float64\n",
      " 22  is_fraud               float64\n",
      "dtypes: float64(9), int64(3), object(11)\n",
      "memory usage: 4.5+ GB\n"
     ]
    }
   ],
   "source": [
    "df_complete.info()"
   ]
  },
  {
   "cell_type": "markdown",
   "metadata": {},
   "source": [
    "Total number of rows in the dataset is 25,401,869. which is impossible to process with local resources as it almost consumes 4.2 gb of data.\n",
    "So taking a saple from the dataset.100,000 records"
   ]
  },
  {
   "cell_type": "code",
   "execution_count": 18,
   "metadata": {},
   "outputs": [],
   "source": [
    "df_subset= df_complete.sample(n=100000) ## it performs a random sampling "
   ]
  },
  {
   "cell_type": "code",
   "execution_count": 19,
   "metadata": {},
   "outputs": [
    {
     "data": {
      "text/plain": [
       "Prscrbr_NPI               0.000\n",
       "Prscrbr_Last_Org_Name     0.000\n",
       "Prscrbr_First_Name        0.000\n",
       "Prscrbr_City              0.000\n",
       "Prscrbr_State_Abrvtn      0.000\n",
       "Prscrbr_State_FIPS        0.000\n",
       "Prscrbr_Type              0.000\n",
       "Prscrbr_Type_Src          0.000\n",
       "Brnd_Name                 0.000\n",
       "Gnrc_Name                 0.000\n",
       "Tot_Clms                  0.000\n",
       "Tot_30day_Fills           0.000\n",
       "Tot_Day_Suply             0.000\n",
       "Tot_Drug_Cst              0.000\n",
       "Tot_Benes                57.999\n",
       "GE65_Sprsn_Flag          55.329\n",
       "GE65_Tot_Clms            44.671\n",
       "GE65_Tot_30day_Fills     44.671\n",
       "GE65_Tot_Drug_Cst        44.671\n",
       "GE65_Tot_Day_Suply       44.671\n",
       "GE65_Bene_Sprsn_Flag     10.193\n",
       "GE65_Tot_Benes           89.807\n",
       "is_fraud                 99.976\n",
       "dtype: float64"
      ]
     },
     "execution_count": 19,
     "metadata": {},
     "output_type": "execute_result"
    }
   ],
   "source": [
    "colnames=(df_subset.isnull().sum()*100/len(df_subset)) \n",
    "colnames"
   ]
  },
  {
   "cell_type": "markdown",
   "metadata": {},
   "source": [
    "The sample dataset almost has the similar number of the null values, we can use that for our inference building and\n",
    "can run the entire dataset once the cloud environment is available "
   ]
  },
  {
   "cell_type": "code",
   "execution_count": 20,
   "metadata": {},
   "outputs": [
    {
     "data": {
      "text/plain": [
       "20"
      ]
     },
     "execution_count": 20,
     "metadata": {},
     "output_type": "execute_result"
    }
   ],
   "source": [
    "## deleting the bigger dataframe now as it is causing system crash \n",
    "\n",
    "del [[df_complete]]\n",
    "\n",
    "gc.collect()"
   ]
  },
  {
   "cell_type": "markdown",
   "metadata": {},
   "source": [
    "## Value Counts to see how the Data is spread into categories "
   ]
  },
  {
   "cell_type": "code",
   "execution_count": 21,
   "metadata": {},
   "outputs": [
    {
     "data": {
      "text/plain": [
       "['Prscrbr_Last_Org_Name',\n",
       " 'Prscrbr_First_Name',\n",
       " 'Prscrbr_City',\n",
       " 'Prscrbr_State_Abrvtn',\n",
       " 'Prscrbr_State_FIPS',\n",
       " 'Prscrbr_Type',\n",
       " 'Prscrbr_Type_Src',\n",
       " 'Brnd_Name',\n",
       " 'Gnrc_Name',\n",
       " 'GE65_Sprsn_Flag',\n",
       " 'GE65_Bene_Sprsn_Flag']"
      ]
     },
     "execution_count": 21,
     "metadata": {},
     "output_type": "execute_result"
    }
   ],
   "source": [
    "cat_vals"
   ]
  },
  {
   "cell_type": "code",
   "execution_count": 22,
   "metadata": {},
   "outputs": [],
   "source": [
    "from IPython.core.interactiveshell import InteractiveShell\n",
    "InteractiveShell.ast_node_interactivity = \"all\""
   ]
  },
  {
   "cell_type": "code",
   "execution_count": 23,
   "metadata": {
    "scrolled": false
   },
   "outputs": [
    {
     "data": {
      "text/plain": [
       "Patel                572\n",
       "Smith                568\n",
       "Johnson              377\n",
       "Lee                  319\n",
       "Miller               312\n",
       "                    ... \n",
       "Majmundar              1\n",
       "Kohlman-Trigoboff      1\n",
       "Nofuente               1\n",
       "Maysonet               1\n",
       "Gowman                 1\n",
       "Name: Prscrbr_Last_Org_Name, Length: 40808, dtype: int64"
      ]
     },
     "execution_count": 23,
     "metadata": {},
     "output_type": "execute_result"
    },
    {
     "data": {
      "text/plain": [
       "Michael    1862\n",
       "David      1789\n",
       "John       1727\n",
       "Robert     1482\n",
       "James      1439\n",
       "           ... \n",
       "Keilah        1\n",
       "Karo          1\n",
       "Japheth       1\n",
       "Zena          1\n",
       "Ammir         1\n",
       "Name: Prscrbr_First_Name, Length: 14276, dtype: int64"
      ]
     },
     "execution_count": 23,
     "metadata": {},
     "output_type": "execute_result"
    },
    {
     "data": {
      "text/plain": [
       "New York         950\n",
       "Brooklyn         749\n",
       "Houston          708\n",
       "Chicago          661\n",
       "Philadelphia     632\n",
       "                ... \n",
       "La Vergne          1\n",
       "North Mankato      1\n",
       "Tea                1\n",
       "Copley             1\n",
       "Moosup             1\n",
       "Name: Prscrbr_City, Length: 7047, dtype: int64"
      ]
     },
     "execution_count": 23,
     "metadata": {},
     "output_type": "execute_result"
    },
    {
     "data": {
      "text/plain": [
       "CA    9486\n",
       "NY    6824\n",
       "FL    6704\n",
       "TX    6428\n",
       "PA    5019\n",
       "OH    4216\n",
       "MI    3554\n",
       "NC    3534\n",
       "IL    3503\n",
       "GA    2824\n",
       "TN    2620\n",
       "NJ    2616\n",
       "MA    2446\n",
       "VA    2226\n",
       "MO    2216\n",
       "IN    2202\n",
       "WI    1981\n",
       "WA    1875\n",
       "KY    1867\n",
       "AZ    1776\n",
       "MN    1724\n",
       "LA    1702\n",
       "SC    1695\n",
       "AL    1612\n",
       "MD    1437\n",
       "PR    1325\n",
       "OR    1324\n",
       "CO    1311\n",
       "CT    1210\n",
       "OK    1165\n",
       "AR    1149\n",
       "IA    1101\n",
       "MS    1049\n",
       "KS    1004\n",
       "WV     789\n",
       "NE     663\n",
       "UT     646\n",
       "NV     614\n",
       "ME     536\n",
       "NM     534\n",
       "ID     531\n",
       "NH     460\n",
       "RI     368\n",
       "MT     322\n",
       "SD     313\n",
       "DE     300\n",
       "HI     280\n",
       "ND     245\n",
       "VT     201\n",
       "DC     159\n",
       "AK     152\n",
       "WY     135\n",
       "VI      10\n",
       "GU       7\n",
       "ZZ       6\n",
       "AP       2\n",
       "AA       1\n",
       "MP       1\n",
       "Name: Prscrbr_State_Abrvtn, dtype: int64"
      ]
     },
     "execution_count": 23,
     "metadata": {},
     "output_type": "execute_result"
    },
    {
     "data": {
      "text/plain": [
       "6     8134\n",
       "36    5860\n",
       "12    5709\n",
       "48    5473\n",
       "42    4304\n",
       "      ... \n",
       "9C       2\n",
       "78       2\n",
       "66       2\n",
       "9A       1\n",
       "69       1\n",
       "Name: Prscrbr_State_FIPS, Length: 112, dtype: int64"
      ]
     },
     "execution_count": 23,
     "metadata": {},
     "output_type": "execute_result"
    },
    {
     "data": {
      "text/plain": [
       "Family Practice                     26928\n",
       "Internal Medicine                   24396\n",
       "Nurse Practitioner                  15228\n",
       "Physician Assistant                  6274\n",
       "Cardiology                           3031\n",
       "                                    ...  \n",
       "Community Health Worker                 1\n",
       "Undersea and Hyperbaric Medicine        1\n",
       "Neurological Surgery                    1\n",
       "Homeopath                               1\n",
       "Psychoanalyst                           1\n",
       "Name: Prscrbr_Type, Length: 108, dtype: int64"
      ]
     },
     "execution_count": 23,
     "metadata": {},
     "output_type": "execute_result"
    },
    {
     "data": {
      "text/plain": [
       "S    98135\n",
       "T     1865\n",
       "Name: Prscrbr_Type_Src, dtype: int64"
      ]
     },
     "execution_count": 23,
     "metadata": {},
     "output_type": "execute_result"
    },
    {
     "data": {
      "text/plain": [
       "Gabapentin              1279\n",
       "Atorvastatin Calcium    1253\n",
       "Lisinopril              1197\n",
       "Amlodipine Besylate     1154\n",
       "Prednisone              1101\n",
       "                        ... \n",
       "Epclusa                    1\n",
       "Doxycycline Ir-Dr          1\n",
       "Klor-Con M15               1\n",
       "Tribenzor                  1\n",
       "Pacerone                   1\n",
       "Name: Brnd_Name, Length: 1410, dtype: int64"
      ]
     },
     "execution_count": 23,
     "metadata": {},
     "output_type": "execute_result"
    },
    {
     "data": {
      "text/plain": [
       "Levothyroxine Sodium              1441\n",
       "Metformin Hcl                     1402\n",
       "Albuterol Sulfate                 1399\n",
       "Gabapentin                        1285\n",
       "Atorvastatin Calcium              1262\n",
       "                                  ... \n",
       "Axitinib                             1\n",
       "Ceftazidime                          1\n",
       "Doxercalciferol                      1\n",
       "Imipenem/Cilastatin Sodium           1\n",
       "Ribociclib Succinate/Letrozole       1\n",
       "Name: Gnrc_Name, Length: 977, dtype: int64"
      ]
     },
     "execution_count": 23,
     "metadata": {},
     "output_type": "execute_result"
    },
    {
     "data": {
      "text/plain": [
       "NaN    55329\n",
       "#      30819\n",
       "*      13852\n",
       "Name: GE65_Sprsn_Flag, dtype: int64"
      ]
     },
     "execution_count": 23,
     "metadata": {},
     "output_type": "execute_result"
    },
    {
     "data": {
      "text/plain": [
       "*      62427\n",
       "#      27380\n",
       "NaN    10193\n",
       "Name: GE65_Bene_Sprsn_Flag, dtype: int64"
      ]
     },
     "execution_count": 23,
     "metadata": {},
     "output_type": "execute_result"
    }
   ],
   "source": [
    "for val in cat_vals:\n",
    "    df_subset[val].value_counts(dropna=False)\n",
    "    "
   ]
  },
  {
   "cell_type": "markdown",
   "metadata": {},
   "source": [
    "## Inferences/notes\n",
    "- “*” = Primary suppressed due to bene_count_ge65 between 1 and 10.\n",
    "- “#” = Counter suppressed because the “less than 65 year old” group (not explicitly displayed)\n",
    "    contains a beneficiary count between 1 and 10, which can be mathematically determined\n",
    "    from bene_count_ge65 and bene_count.\n",
    "    \n",
    "    \n"
   ]
  },
  {
   "cell_type": "code",
   "execution_count": 24,
   "metadata": {},
   "outputs": [],
   "source": [
    "df_subset.columns=df_subset.columns.str.replace('*','primary_suppressed')"
   ]
  },
  {
   "cell_type": "code",
   "execution_count": 55,
   "metadata": {},
   "outputs": [],
   "source": [
    "df_subset.columns=df_subset.columns.str.replace(\"#\",'counter_suppressed')"
   ]
  },
  {
   "cell_type": "markdown",
   "metadata": {},
   "source": [
    "## 2. Univariate Analysis numerical variables "
   ]
  },
  {
   "cell_type": "code",
   "execution_count": 26,
   "metadata": {},
   "outputs": [],
   "source": [
    "## Converting the float64 to float type \n",
    "df_subset['Tot_Clms']=df_subset['Tot_Clms'].astype(float)\n",
    "df_subset['Tot_Day_Suply']=df_subset['Tot_Day_Suply'].astype(float)"
   ]
  },
  {
   "cell_type": "code",
   "execution_count": 27,
   "metadata": {},
   "outputs": [
    {
     "name": "stdout",
     "output_type": "stream",
     "text": [
      "<class 'pandas.core.frame.DataFrame'>\n",
      "Int64Index: 100000 entries, 16923230 to 19600933\n",
      "Data columns (total 23 columns):\n",
      " #   Column                 Non-Null Count   Dtype  \n",
      "---  ------                 --------------   -----  \n",
      " 0   Prscrbr_NPI            100000 non-null  int64  \n",
      " 1   Prscrbr_Last_Org_Name  100000 non-null  object \n",
      " 2   Prscrbr_First_Name     100000 non-null  object \n",
      " 3   Prscrbr_City           100000 non-null  object \n",
      " 4   Prscrbr_State_Abrvtn   100000 non-null  object \n",
      " 5   Prscrbr_State_FIPS     100000 non-null  object \n",
      " 6   Prscrbr_Type           100000 non-null  object \n",
      " 7   Prscrbr_Type_Src       100000 non-null  object \n",
      " 8   Brnd_Name              100000 non-null  object \n",
      " 9   Gnrc_Name              100000 non-null  object \n",
      " 10  Tot_Clms               100000 non-null  float64\n",
      " 11  Tot_30day_Fills        100000 non-null  float64\n",
      " 12  Tot_Day_Suply          100000 non-null  float64\n",
      " 13  Tot_Drug_Cst           100000 non-null  float64\n",
      " 14  Tot_Benes              42001 non-null   float64\n",
      " 15  GE65_Sprsn_Flag        44671 non-null   object \n",
      " 16  GE65_Tot_Clms          55329 non-null   float64\n",
      " 17  GE65_Tot_30day_Fills   55329 non-null   float64\n",
      " 18  GE65_Tot_Drug_Cst      55329 non-null   float64\n",
      " 19  GE65_Tot_Day_Suply     55329 non-null   float64\n",
      " 20  GE65_Bene_Sprsn_Flag   89807 non-null   object \n",
      " 21  GE65_Tot_Benes         10193 non-null   float64\n",
      " 22  is_fraud               24 non-null      float64\n",
      "dtypes: float64(11), int64(1), object(11)\n",
      "memory usage: 18.3+ MB\n"
     ]
    }
   ],
   "source": [
    "df_subset.info()"
   ]
  },
  {
   "cell_type": "code",
   "execution_count": 28,
   "metadata": {},
   "outputs": [
    {
     "data": {
      "text/plain": [
       "['Tot_Clms',\n",
       " 'Tot_30day_Fills',\n",
       " 'Tot_Day_Suply',\n",
       " 'Tot_Drug_Cst',\n",
       " 'Tot_Benes',\n",
       " 'GE65_Tot_Clms',\n",
       " 'GE65_Tot_30day_Fills',\n",
       " 'GE65_Tot_Drug_Cst',\n",
       " 'GE65_Tot_Day_Suply',\n",
       " 'GE65_Tot_Benes',\n",
       " 'is_fraud']"
      ]
     },
     "execution_count": 28,
     "metadata": {},
     "output_type": "execute_result"
    }
   ],
   "source": [
    "num_vals = df_subset.select_dtypes(include=['float64']).columns\n",
    "num_vals=num_vals.to_list()\n",
    "num_vals"
   ]
  },
  {
   "cell_type": "code",
   "execution_count": 29,
   "metadata": {
    "scrolled": false
   },
   "outputs": [
    {
     "name": "stdout",
     "output_type": "stream",
     "text": [
      "count    100000.000000\n",
      "mean         51.216410\n",
      "std          97.117927\n",
      "min          11.000000\n",
      "25%          15.000000\n",
      "50%          24.000000\n",
      "70%          42.000000\n",
      "75%          50.000000\n",
      "max       10672.000000\n",
      "Name: Tot_Clms, dtype: float64\n"
     ]
    },
    {
     "data": {
      "text/plain": [
       "Text(0.5, 1.0, 'Tot_Clms')"
      ]
     },
     "execution_count": 29,
     "metadata": {},
     "output_type": "execute_result"
    },
    {
     "data": {
      "image/png": "[encoded data removed]",
      "text/plain": [
       "<Figure size 432x288 with 1 Axes>"
      ]
     },
     "metadata": {},
     "output_type": "display_data"
    },
    {
     "name": "stdout",
     "output_type": "stream",
     "text": [
      "count    100000.000000\n",
      "mean         87.290764\n",
      "std         166.248219\n",
      "min          11.000000\n",
      "25%          21.000000\n",
      "50%          38.000000\n",
      "70%          68.000000\n",
      "75%          82.200000\n",
      "max       10676.600000\n",
      "Name: Tot_30day_Fills, dtype: float64\n"
     ]
    },
    {
     "data": {
      "text/plain": [
       "Text(0.5, 1.0, 'Tot_30day_Fills')"
      ]
     },
     "execution_count": 29,
     "metadata": {},
     "output_type": "execute_result"
    },
    {
     "data": {
      "image/png": "[encoded data removed]",
      "text/plain": [
       "<Figure size 432x288 with 1 Axes>"
      ]
     },
     "metadata": {},
     "output_type": "display_data"
    },
    {
     "name": "stdout",
     "output_type": "stream",
     "text": [
      "count    100000.000000\n",
      "mean       2451.303580\n",
      "std        4791.945508\n",
      "min          11.000000\n",
      "25%         480.000000\n",
      "50%        1020.000000\n",
      "70%        1890.000000\n",
      "75%        2311.000000\n",
      "max      226734.000000\n",
      "Name: Tot_Day_Suply, dtype: float64\n"
     ]
    },
    {
     "data": {
      "text/plain": [
       "Text(0.5, 1.0, 'Tot_Day_Suply')"
      ]
     },
     "execution_count": 29,
     "metadata": {},
     "output_type": "execute_result"
    },
    {
     "data": {
      "image/png": "[encoded data removed]",
      "text/plain": [
       "<Figure size 432x288 with 1 Axes>"
      ]
     },
     "metadata": {},
     "output_type": "display_data"
    },
    {
     "name": "stdout",
     "output_type": "stream",
     "text": [
      "count    1.000000e+05\n",
      "mean     5.375655e+03\n",
      "std      3.278353e+04\n",
      "min      0.000000e+00\n",
      "25%      2.622800e+02\n",
      "50%      6.724000e+02\n",
      "70%      1.604704e+03\n",
      "75%      2.160662e+03\n",
      "max      2.611509e+06\n",
      "Name: Tot_Drug_Cst, dtype: float64\n"
     ]
    },
    {
     "data": {
      "text/plain": [
       "Text(0.5, 1.0, 'Tot_Drug_Cst')"
      ]
     },
     "execution_count": 29,
     "metadata": {},
     "output_type": "execute_result"
    },
    {
     "data": {
      "image/png": "[encoded data removed]",
      "text/plain": [
       "<Figure size 432x288 with 1 Axes>"
      ]
     },
     "metadata": {},
     "output_type": "display_data"
    },
    {
     "name": "stdout",
     "output_type": "stream",
     "text": [
      "count    42001.000000\n",
      "mean        30.162210\n",
      "std         33.088777\n",
      "min         11.000000\n",
      "25%         14.000000\n",
      "50%         20.000000\n",
      "70%         29.000000\n",
      "75%         33.000000\n",
      "max       1046.000000\n",
      "Name: Tot_Benes, dtype: float64\n"
     ]
    },
    {
     "data": {
      "text/plain": [
       "Text(0.5, 1.0, 'Tot_Benes')"
      ]
     },
     "execution_count": 29,
     "metadata": {},
     "output_type": "execute_result"
    },
    {
     "data": {
      "image/png": "[encoded data removed]",
      "text/plain": [
       "<Figure size 432x288 with 1 Axes>"
      ]
     },
     "metadata": {},
     "output_type": "display_data"
    },
    {
     "name": "stdout",
     "output_type": "stream",
     "text": [
      "count    55329.000000\n",
      "mean        49.901842\n",
      "std        102.668020\n",
      "min          0.000000\n",
      "25%         13.000000\n",
      "50%         22.000000\n",
      "70%         39.000000\n",
      "75%         47.000000\n",
      "max       9998.000000\n",
      "Name: GE65_Tot_Clms, dtype: float64\n"
     ]
    },
    {
     "data": {
      "text/plain": [
       "Text(0.5, 1.0, 'GE65_Tot_Clms')"
      ]
     },
     "execution_count": 29,
     "metadata": {},
     "output_type": "execute_result"
    },
    {
     "data": {
      "image/png": "[encoded data removed]",
      "text/plain": [
       "<Figure size 432x288 with 1 Axes>"
      ]
     },
     "metadata": {},
     "output_type": "display_data"
    },
    {
     "name": "stdout",
     "output_type": "stream",
     "text": [
      "count    55329.000000\n",
      "mean        88.346075\n",
      "std        179.615427\n",
      "min          0.000000\n",
      "25%         18.000000\n",
      "50%         36.000000\n",
      "70%         65.700000\n",
      "75%         81.000000\n",
      "max      10002.400000\n",
      "Name: GE65_Tot_30day_Fills, dtype: float64\n"
     ]
    },
    {
     "data": {
      "text/plain": [
       "Text(0.5, 1.0, 'GE65_Tot_30day_Fills')"
      ]
     },
     "execution_count": 29,
     "metadata": {},
     "output_type": "execute_result"
    },
    {
     "data": {
      "image/png": "[encoded data removed]",
      "text/plain": [
       "<Figure size 432x288 with 1 Axes>"
      ]
     },
     "metadata": {},
     "output_type": "display_data"
    },
    {
     "name": "stdout",
     "output_type": "stream",
     "text": [
      "count    5.532900e+04\n",
      "mean     4.876590e+03\n",
      "std      3.060906e+04\n",
      "min      0.000000e+00\n",
      "25%      2.248800e+02\n",
      "50%      6.208600e+02\n",
      "70%      1.520854e+03\n",
      "75%      2.042610e+03\n",
      "max      2.405400e+06\n",
      "Name: GE65_Tot_Drug_Cst, dtype: float64\n"
     ]
    },
    {
     "data": {
      "text/plain": [
       "Text(0.5, 1.0, 'GE65_Tot_Drug_Cst')"
      ]
     },
     "execution_count": 29,
     "metadata": {},
     "output_type": "execute_result"
    },
    {
     "data": {
      "image/png": "[encoded data removed]",
      "text/plain": [
       "<Figure size 432x288 with 1 Axes>"
      ]
     },
     "metadata": {},
     "output_type": "display_data"
    },
    {
     "name": "stdout",
     "output_type": "stream",
     "text": [
      "count     55329.000000\n",
      "mean       2510.743100\n",
      "std        5124.009007\n",
      "min           0.000000\n",
      "25%         433.000000\n",
      "50%         990.000000\n",
      "70%        1831.000000\n",
      "75%        2280.000000\n",
      "max      222421.000000\n",
      "Name: GE65_Tot_Day_Suply, dtype: float64\n"
     ]
    },
    {
     "data": {
      "text/plain": [
       "Text(0.5, 1.0, 'GE65_Tot_Day_Suply')"
      ]
     },
     "execution_count": 29,
     "metadata": {},
     "output_type": "execute_result"
    },
    {
     "data": {
      "image/png": "[encoded data removed]",
      "text/plain": [
       "<Figure size 432x288 with 1 Axes>"
      ]
     },
     "metadata": {},
     "output_type": "display_data"
    },
    {
     "name": "stdout",
     "output_type": "stream",
     "text": [
      "count    10193.000000\n",
      "mean        33.079564\n",
      "std         44.533572\n",
      "min          0.000000\n",
      "25%         13.000000\n",
      "50%         19.000000\n",
      "70%         29.000000\n",
      "75%         34.000000\n",
      "max       1024.000000\n",
      "Name: GE65_Tot_Benes, dtype: float64\n"
     ]
    },
    {
     "data": {
      "text/plain": [
       "Text(0.5, 1.0, 'GE65_Tot_Benes')"
      ]
     },
     "execution_count": 29,
     "metadata": {},
     "output_type": "execute_result"
    },
    {
     "data": {
      "image/png": "[encoded data removed]",
      "text/plain": [
       "<Figure size 432x288 with 1 Axes>"
      ]
     },
     "metadata": {},
     "output_type": "display_data"
    }
   ],
   "source": [
    "sns.set(style=\"darkgrid\")\n",
    "for vals in num_vals[:-1]:\n",
    "    print(df_subset[vals].describe(percentiles=[.25,.50,.70,.75]))\n",
    "    ax = sns.boxplot(y=df_subset[vals],showfliers=False) ## keeping showfliers=False just to see the meadian value and the data distibution \n",
    "    plt.title(vals, weight='bold', FontSize = 16)\n",
    "    plt.show();\n",
    "    "
   ]
  },
  {
   "cell_type": "markdown",
   "metadata": {},
   "source": [
    "## Inferences"
   ]
  },
  {
   "cell_type": "code",
   "execution_count": null,
   "metadata": {},
   "outputs": [],
   "source": []
  },
  {
   "cell_type": "code",
   "execution_count": null,
   "metadata": {},
   "outputs": [],
   "source": []
  },
  {
   "cell_type": "markdown",
   "metadata": {},
   "source": [
    "## Checking the number of frauds present in the sample set "
   ]
  },
  {
   "cell_type": "code",
   "execution_count": 30,
   "metadata": {},
   "outputs": [
    {
     "data": {
      "text/plain": [
       "0.0    99976\n",
       "1.0       24\n",
       "Name: is_fraud, dtype: int64"
      ]
     },
     "execution_count": 30,
     "metadata": {},
     "output_type": "execute_result"
    }
   ],
   "source": [
    "df_subset['is_fraud'] = df_subset['is_fraud'].fillna(0)\n",
    "df_subset['is_fraud'].value_counts()"
   ]
  },
  {
   "cell_type": "markdown",
   "metadata": {},
   "source": [
    "## Univariate - categorical Variables"
   ]
  },
  {
   "cell_type": "code",
   "execution_count": 31,
   "metadata": {},
   "outputs": [],
   "source": [
    "## copy the dataset and segrigate to see the spread by clubbing catagories with lessthan equalto 5% into group others \n",
    "df_cpy =df_subset.copy()"
   ]
  },
  {
   "cell_type": "code",
   "execution_count": 32,
   "metadata": {},
   "outputs": [],
   "source": [
    "def Segrigate (Val,threshold =0.005):\n",
    "    \n",
    "    df_cpy[Val].value_counts(dropna=False,normalize=True)\n",
    "    plt.figure(figsize=(5, 5))\n",
    "    count_df= df_cpy[Val].value_counts(dropna=False,normalize=True)\n",
    "    count_df=count_df.to_frame()\n",
    "    count_df=count_df[count_df[Val]<threshold]\n",
    "    to_replace= count_df.index\n",
    "    to_replace\n",
    "    df_cpy[Val] = df_cpy[Val].replace(to_replace, 'Others')\n",
    "    df_cpy[Val] = df_cpy[Val].astype('object')\n",
    "    df_cpy[Val].value_counts(dropna=False,normalize=True).plot(kind='bar',color='turquoise',legend=True,fontsize=11,grid=True);"
   ]
  },
  {
   "cell_type": "code",
   "execution_count": 33,
   "metadata": {},
   "outputs": [
    {
     "data": {
      "text/plain": [
       "['Prscrbr_Last_Org_Name',\n",
       " 'Prscrbr_First_Name',\n",
       " 'Prscrbr_City',\n",
       " 'Prscrbr_State_Abrvtn',\n",
       " 'Prscrbr_State_FIPS',\n",
       " 'Prscrbr_Type',\n",
       " 'Prscrbr_Type_Src',\n",
       " 'Brnd_Name',\n",
       " 'Gnrc_Name',\n",
       " 'GE65_Sprsn_Flag',\n",
       " 'GE65_Bene_Sprsn_Flag']"
      ]
     },
     "execution_count": 33,
     "metadata": {},
     "output_type": "execute_result"
    }
   ],
   "source": [
    "cat_vals"
   ]
  },
  {
   "cell_type": "code",
   "execution_count": 34,
   "metadata": {},
   "outputs": [
    {
     "name": "stdout",
     "output_type": "stream",
     "text": [
      "<class 'pandas.core.frame.DataFrame'>\n",
      "Int64Index: 100000 entries, 16923230 to 19600933\n",
      "Data columns (total 23 columns):\n",
      " #   Column                 Non-Null Count   Dtype  \n",
      "---  ------                 --------------   -----  \n",
      " 0   Prscrbr_NPI            100000 non-null  int64  \n",
      " 1   Prscrbr_Last_Org_Name  100000 non-null  object \n",
      " 2   Prscrbr_First_Name     100000 non-null  object \n",
      " 3   Prscrbr_City           100000 non-null  object \n",
      " 4   Prscrbr_State_Abrvtn   100000 non-null  object \n",
      " 5   Prscrbr_State_FIPS     100000 non-null  object \n",
      " 6   Prscrbr_Type           100000 non-null  object \n",
      " 7   Prscrbr_Type_Src       100000 non-null  object \n",
      " 8   Brnd_Name              100000 non-null  object \n",
      " 9   Gnrc_Name              100000 non-null  object \n",
      " 10  Tot_Clms               100000 non-null  float64\n",
      " 11  Tot_30day_Fills        100000 non-null  float64\n",
      " 12  Tot_Day_Suply          100000 non-null  float64\n",
      " 13  Tot_Drug_Cst           100000 non-null  float64\n",
      " 14  Tot_Benes              42001 non-null   float64\n",
      " 15  GE65_Sprsn_Flag        44671 non-null   object \n",
      " 16  GE65_Tot_Clms          55329 non-null   float64\n",
      " 17  GE65_Tot_30day_Fills   55329 non-null   float64\n",
      " 18  GE65_Tot_Drug_Cst      55329 non-null   float64\n",
      " 19  GE65_Tot_Day_Suply     55329 non-null   float64\n",
      " 20  GE65_Bene_Sprsn_Flag   89807 non-null   object \n",
      " 21  GE65_Tot_Benes         10193 non-null   float64\n",
      " 22  is_fraud               100000 non-null  float64\n",
      "dtypes: float64(11), int64(1), object(11)\n",
      "memory usage: 18.3+ MB\n"
     ]
    }
   ],
   "source": [
    "df_subset.info()"
   ]
  },
  {
   "cell_type": "code",
   "execution_count": 35,
   "metadata": {},
   "outputs": [
    {
     "data": {
      "text/plain": [
       "Family Practice                     26928\n",
       "Internal Medicine                   24396\n",
       "Nurse Practitioner                  15228\n",
       "Physician Assistant                  6274\n",
       "Cardiology                           3031\n",
       "                                    ...  \n",
       "Community Health Worker                 1\n",
       "Undersea and Hyperbaric Medicine        1\n",
       "Neurological Surgery                    1\n",
       "Homeopath                               1\n",
       "Psychoanalyst                           1\n",
       "Name: Prscrbr_Type, Length: 108, dtype: int64"
      ]
     },
     "execution_count": 35,
     "metadata": {},
     "output_type": "execute_result"
    },
    {
     "data": {
      "image/png": "[encoded data removed]",
      "text/plain": [
       "<Figure size 360x360 with 1 Axes>"
      ]
     },
     "metadata": {},
     "output_type": "display_data"
    }
   ],
   "source": [
    "#for vals in cat_vals:\n",
    "df_subset['Prscrbr_Type'].value_counts()\n",
    "Segrigate('Prscrbr_Type')"
   ]
  },
  {
   "cell_type": "markdown",
   "metadata": {},
   "source": [
    "## Inference \n",
    "- The maximum Prscrbr_Type are Family Practice."
   ]
  },
  {
   "cell_type": "code",
   "execution_count": 36,
   "metadata": {},
   "outputs": [
    {
     "name": "stdout",
     "output_type": "stream",
     "text": [
      "<class 'pandas.core.frame.DataFrame'>\n",
      "Int64Index: 100000 entries, 16923230 to 19600933\n",
      "Data columns (total 23 columns):\n",
      " #   Column                 Non-Null Count   Dtype  \n",
      "---  ------                 --------------   -----  \n",
      " 0   Prscrbr_NPI            100000 non-null  int64  \n",
      " 1   Prscrbr_Last_Org_Name  100000 non-null  object \n",
      " 2   Prscrbr_First_Name     100000 non-null  object \n",
      " 3   Prscrbr_City           100000 non-null  object \n",
      " 4   Prscrbr_State_Abrvtn   100000 non-null  object \n",
      " 5   Prscrbr_State_FIPS     100000 non-null  object \n",
      " 6   Prscrbr_Type           100000 non-null  object \n",
      " 7   Prscrbr_Type_Src       100000 non-null  object \n",
      " 8   Brnd_Name              100000 non-null  object \n",
      " 9   Gnrc_Name              100000 non-null  object \n",
      " 10  Tot_Clms               100000 non-null  float64\n",
      " 11  Tot_30day_Fills        100000 non-null  float64\n",
      " 12  Tot_Day_Suply          100000 non-null  float64\n",
      " 13  Tot_Drug_Cst           100000 non-null  float64\n",
      " 14  Tot_Benes              42001 non-null   float64\n",
      " 15  GE65_Sprsn_Flag        44671 non-null   object \n",
      " 16  GE65_Tot_Clms          55329 non-null   float64\n",
      " 17  GE65_Tot_30day_Fills   55329 non-null   float64\n",
      " 18  GE65_Tot_Drug_Cst      55329 non-null   float64\n",
      " 19  GE65_Tot_Day_Suply     55329 non-null   float64\n",
      " 20  GE65_Bene_Sprsn_Flag   89807 non-null   object \n",
      " 21  GE65_Tot_Benes         10193 non-null   float64\n",
      " 22  is_fraud               100000 non-null  float64\n",
      "dtypes: float64(11), int64(1), object(11)\n",
      "memory usage: 18.3+ MB\n"
     ]
    }
   ],
   "source": [
    "\n",
    "df_subset.info()"
   ]
  },
  {
   "cell_type": "code",
   "execution_count": 37,
   "metadata": {},
   "outputs": [
    {
     "data": {
      "text/html": [
       "<div>\n",
       "<style scoped>\n",
       "    .dataframe tbody tr th:only-of-type {\n",
       "        vertical-align: middle;\n",
       "    }\n",
       "\n",
       "    .dataframe tbody tr th {\n",
       "        vertical-align: top;\n",
       "    }\n",
       "\n",
       "    .dataframe thead th {\n",
       "        text-align: right;\n",
       "    }\n",
       "</style>\n",
       "<table border=\"1\" class=\"dataframe\">\n",
       "  <thead>\n",
       "    <tr style=\"text-align: right;\">\n",
       "      <th></th>\n",
       "      <th>Prscrbr_NPI</th>\n",
       "      <th>Prscrbr_Last_Org_Name</th>\n",
       "      <th>Prscrbr_First_Name</th>\n",
       "      <th>Prscrbr_City</th>\n",
       "      <th>Prscrbr_State_Abrvtn</th>\n",
       "      <th>Prscrbr_State_FIPS</th>\n",
       "      <th>Prscrbr_Type</th>\n",
       "      <th>Prscrbr_Type_Src</th>\n",
       "      <th>Brnd_Name</th>\n",
       "      <th>Gnrc_Name</th>\n",
       "      <th>...</th>\n",
       "      <th>Tot_Drug_Cst</th>\n",
       "      <th>Tot_Benes</th>\n",
       "      <th>GE65_Sprsn_Flag</th>\n",
       "      <th>GE65_Tot_Clms</th>\n",
       "      <th>GE65_Tot_30day_Fills</th>\n",
       "      <th>GE65_Tot_Drug_Cst</th>\n",
       "      <th>GE65_Tot_Day_Suply</th>\n",
       "      <th>GE65_Bene_Sprsn_Flag</th>\n",
       "      <th>GE65_Tot_Benes</th>\n",
       "      <th>is_fraud</th>\n",
       "    </tr>\n",
       "  </thead>\n",
       "  <tbody>\n",
       "    <tr>\n",
       "      <th>16923230</th>\n",
       "      <td>1669509378</td>\n",
       "      <td>Dixon</td>\n",
       "      <td>Mitra</td>\n",
       "      <td>Bellflower</td>\n",
       "      <td>CA</td>\n",
       "      <td>6</td>\n",
       "      <td>Family Practice</td>\n",
       "      <td>S</td>\n",
       "      <td>Paroxetine Hcl</td>\n",
       "      <td>Paroxetine Hcl</td>\n",
       "      <td>...</td>\n",
       "      <td>170.02</td>\n",
       "      <td>NaN</td>\n",
       "      <td>*</td>\n",
       "      <td>NaN</td>\n",
       "      <td>NaN</td>\n",
       "      <td>NaN</td>\n",
       "      <td>NaN</td>\n",
       "      <td>*</td>\n",
       "      <td>NaN</td>\n",
       "      <td>0.0</td>\n",
       "    </tr>\n",
       "    <tr>\n",
       "      <th>1737014</th>\n",
       "      <td>1063789865</td>\n",
       "      <td>Mehta</td>\n",
       "      <td>Swati</td>\n",
       "      <td>Albany</td>\n",
       "      <td>NY</td>\n",
       "      <td>36</td>\n",
       "      <td>Nephrology</td>\n",
       "      <td>S</td>\n",
       "      <td>Losartan Potassium</td>\n",
       "      <td>Losartan Potassium</td>\n",
       "      <td>...</td>\n",
       "      <td>119.11</td>\n",
       "      <td>NaN</td>\n",
       "      <td>#</td>\n",
       "      <td>NaN</td>\n",
       "      <td>NaN</td>\n",
       "      <td>NaN</td>\n",
       "      <td>NaN</td>\n",
       "      <td>*</td>\n",
       "      <td>NaN</td>\n",
       "      <td>0.0</td>\n",
       "    </tr>\n",
       "    <tr>\n",
       "      <th>13040494</th>\n",
       "      <td>1518137868</td>\n",
       "      <td>Nanavati</td>\n",
       "      <td>Rupa</td>\n",
       "      <td>San Diego</td>\n",
       "      <td>CA</td>\n",
       "      <td>6</td>\n",
       "      <td>Neurology</td>\n",
       "      <td>S</td>\n",
       "      <td>Nuplazid</td>\n",
       "      <td>Pimavanserin Tartrate</td>\n",
       "      <td>...</td>\n",
       "      <td>67071.33</td>\n",
       "      <td>NaN</td>\n",
       "      <td>NaN</td>\n",
       "      <td>19.0</td>\n",
       "      <td>19.0</td>\n",
       "      <td>67071.33</td>\n",
       "      <td>565.0</td>\n",
       "      <td>*</td>\n",
       "      <td>NaN</td>\n",
       "      <td>0.0</td>\n",
       "    </tr>\n",
       "    <tr>\n",
       "      <th>3323767</th>\n",
       "      <td>1134122625</td>\n",
       "      <td>Janer-Martinez</td>\n",
       "      <td>Walter</td>\n",
       "      <td>Bayamon</td>\n",
       "      <td>PR</td>\n",
       "      <td>72</td>\n",
       "      <td>Gastroenterology</td>\n",
       "      <td>S</td>\n",
       "      <td>Metoclopramide Hcl</td>\n",
       "      <td>Metoclopramide Hcl</td>\n",
       "      <td>...</td>\n",
       "      <td>399.93</td>\n",
       "      <td>17.0</td>\n",
       "      <td>NaN</td>\n",
       "      <td>26.0</td>\n",
       "      <td>26.0</td>\n",
       "      <td>264.93</td>\n",
       "      <td>780.0</td>\n",
       "      <td>#</td>\n",
       "      <td>NaN</td>\n",
       "      <td>0.0</td>\n",
       "    </tr>\n",
       "    <tr>\n",
       "      <th>18151700</th>\n",
       "      <td>1710266473</td>\n",
       "      <td>Johnson</td>\n",
       "      <td>Brenda</td>\n",
       "      <td>Brookings</td>\n",
       "      <td>SD</td>\n",
       "      <td>46</td>\n",
       "      <td>Nurse Practitioner</td>\n",
       "      <td>S</td>\n",
       "      <td>Cyclobenzaprine Hcl</td>\n",
       "      <td>Cyclobenzaprine Hcl</td>\n",
       "      <td>...</td>\n",
       "      <td>291.13</td>\n",
       "      <td>NaN</td>\n",
       "      <td>NaN</td>\n",
       "      <td>0.0</td>\n",
       "      <td>0.0</td>\n",
       "      <td>0.00</td>\n",
       "      <td>0.0</td>\n",
       "      <td>#</td>\n",
       "      <td>NaN</td>\n",
       "      <td>0.0</td>\n",
       "    </tr>\n",
       "  </tbody>\n",
       "</table>\n",
       "<p>5 rows × 23 columns</p>\n",
       "</div>"
      ],
      "text/plain": [
       "          Prscrbr_NPI Prscrbr_Last_Org_Name Prscrbr_First_Name Prscrbr_City  \\\n",
       "16923230   1669509378                 Dixon              Mitra   Bellflower   \n",
       "1737014    1063789865                 Mehta              Swati       Albany   \n",
       "13040494   1518137868              Nanavati               Rupa    San Diego   \n",
       "3323767    1134122625        Janer-Martinez             Walter      Bayamon   \n",
       "18151700   1710266473               Johnson             Brenda    Brookings   \n",
       "\n",
       "         Prscrbr_State_Abrvtn Prscrbr_State_FIPS        Prscrbr_Type  \\\n",
       "16923230                   CA                  6     Family Practice   \n",
       "1737014                    NY                 36          Nephrology   \n",
       "13040494                   CA                  6           Neurology   \n",
       "3323767                    PR                 72    Gastroenterology   \n",
       "18151700                   SD                 46  Nurse Practitioner   \n",
       "\n",
       "         Prscrbr_Type_Src            Brnd_Name              Gnrc_Name  ...  \\\n",
       "16923230                S       Paroxetine Hcl         Paroxetine Hcl  ...   \n",
       "1737014                 S   Losartan Potassium     Losartan Potassium  ...   \n",
       "13040494                S             Nuplazid  Pimavanserin Tartrate  ...   \n",
       "3323767                 S   Metoclopramide Hcl     Metoclopramide Hcl  ...   \n",
       "18151700                S  Cyclobenzaprine Hcl    Cyclobenzaprine Hcl  ...   \n",
       "\n",
       "          Tot_Drug_Cst  Tot_Benes  GE65_Sprsn_Flag  GE65_Tot_Clms  \\\n",
       "16923230        170.02        NaN                *            NaN   \n",
       "1737014         119.11        NaN                #            NaN   \n",
       "13040494      67071.33        NaN              NaN           19.0   \n",
       "3323767         399.93       17.0              NaN           26.0   \n",
       "18151700        291.13        NaN              NaN            0.0   \n",
       "\n",
       "          GE65_Tot_30day_Fills GE65_Tot_Drug_Cst  GE65_Tot_Day_Suply  \\\n",
       "16923230                   NaN               NaN                 NaN   \n",
       "1737014                    NaN               NaN                 NaN   \n",
       "13040494                  19.0          67071.33               565.0   \n",
       "3323767                   26.0            264.93               780.0   \n",
       "18151700                   0.0              0.00                 0.0   \n",
       "\n",
       "          GE65_Bene_Sprsn_Flag  GE65_Tot_Benes  is_fraud  \n",
       "16923230                     *             NaN       0.0  \n",
       "1737014                      *             NaN       0.0  \n",
       "13040494                     *             NaN       0.0  \n",
       "3323767                      #             NaN       0.0  \n",
       "18151700                     #             NaN       0.0  \n",
       "\n",
       "[5 rows x 23 columns]"
      ]
     },
     "execution_count": 37,
     "metadata": {},
     "output_type": "execute_result"
    }
   ],
   "source": [
    "df_subset.head()"
   ]
  },
  {
   "cell_type": "code",
   "execution_count": 38,
   "metadata": {},
   "outputs": [
    {
     "data": {
      "text/plain": [
       "['Tot_Clms',\n",
       " 'Tot_30day_Fills',\n",
       " 'Tot_Day_Suply',\n",
       " 'Tot_Drug_Cst',\n",
       " 'Tot_Benes',\n",
       " 'GE65_Tot_Clms',\n",
       " 'GE65_Tot_30day_Fills',\n",
       " 'GE65_Tot_Drug_Cst',\n",
       " 'GE65_Tot_Day_Suply',\n",
       " 'GE65_Tot_Benes',\n",
       " 'is_fraud']"
      ]
     },
     "execution_count": 38,
     "metadata": {},
     "output_type": "execute_result"
    }
   ],
   "source": [
    "num_vals"
   ]
  },
  {
   "cell_type": "code",
   "execution_count": 39,
   "metadata": {},
   "outputs": [
    {
     "data": {
      "image/png": "[encoded data removed]",
      "text/plain": [
       "<Figure size 864x648 with 2 Axes>"
      ]
     },
     "metadata": {},
     "output_type": "display_data"
    }
   ],
   "source": [
    "corrmat = df_subset[num_vals[:]].corr()\n",
    "f, ax = plt.subplots(figsize=(12, 9))\n",
    "sns.heatmap(corrmat, vmax=.9,cmap=\"YlGnBu\", square=True);"
   ]
  },
  {
   "cell_type": "code",
   "execution_count": 40,
   "metadata": {},
   "outputs": [
    {
     "data": {
      "text/html": [
       "<div>\n",
       "<style scoped>\n",
       "    .dataframe tbody tr th:only-of-type {\n",
       "        vertical-align: middle;\n",
       "    }\n",
       "\n",
       "    .dataframe tbody tr th {\n",
       "        vertical-align: top;\n",
       "    }\n",
       "\n",
       "    .dataframe thead th {\n",
       "        text-align: right;\n",
       "    }\n",
       "</style>\n",
       "<table border=\"1\" class=\"dataframe\">\n",
       "  <thead>\n",
       "    <tr style=\"text-align: right;\">\n",
       "      <th></th>\n",
       "      <th>Tot_Clms</th>\n",
       "      <th>Tot_30day_Fills</th>\n",
       "      <th>Tot_Day_Suply</th>\n",
       "      <th>Tot_Drug_Cst</th>\n",
       "      <th>Tot_Benes</th>\n",
       "      <th>GE65_Tot_Clms</th>\n",
       "      <th>GE65_Tot_30day_Fills</th>\n",
       "      <th>GE65_Tot_Drug_Cst</th>\n",
       "      <th>GE65_Tot_Day_Suply</th>\n",
       "      <th>GE65_Tot_Benes</th>\n",
       "      <th>is_fraud</th>\n",
       "    </tr>\n",
       "  </thead>\n",
       "  <tbody>\n",
       "    <tr>\n",
       "      <th>Tot_Clms</th>\n",
       "      <td>1.000000</td>\n",
       "      <td>0.908550</td>\n",
       "      <td>0.842299</td>\n",
       "      <td>0.112111</td>\n",
       "      <td>0.769742</td>\n",
       "      <td>0.962216</td>\n",
       "      <td>0.859029</td>\n",
       "      <td>0.106505</td>\n",
       "      <td>0.787224</td>\n",
       "      <td>0.694164</td>\n",
       "      <td>-0.000334</td>\n",
       "    </tr>\n",
       "    <tr>\n",
       "      <th>Tot_30day_Fills</th>\n",
       "      <td>0.908550</td>\n",
       "      <td>1.000000</td>\n",
       "      <td>0.982636</td>\n",
       "      <td>0.078690</td>\n",
       "      <td>0.786113</td>\n",
       "      <td>0.910970</td>\n",
       "      <td>0.980463</td>\n",
       "      <td>0.080959</td>\n",
       "      <td>0.961045</td>\n",
       "      <td>0.755676</td>\n",
       "      <td>-0.001279</td>\n",
       "    </tr>\n",
       "    <tr>\n",
       "      <th>Tot_Day_Suply</th>\n",
       "      <td>0.842299</td>\n",
       "      <td>0.982636</td>\n",
       "      <td>1.000000</td>\n",
       "      <td>0.074553</td>\n",
       "      <td>0.749944</td>\n",
       "      <td>0.834371</td>\n",
       "      <td>0.960540</td>\n",
       "      <td>0.074296</td>\n",
       "      <td>0.980696</td>\n",
       "      <td>0.721586</td>\n",
       "      <td>-0.001116</td>\n",
       "    </tr>\n",
       "    <tr>\n",
       "      <th>Tot_Drug_Cst</th>\n",
       "      <td>0.112111</td>\n",
       "      <td>0.078690</td>\n",
       "      <td>0.074553</td>\n",
       "      <td>1.000000</td>\n",
       "      <td>0.077857</td>\n",
       "      <td>0.094080</td>\n",
       "      <td>0.062973</td>\n",
       "      <td>0.910087</td>\n",
       "      <td>0.056915</td>\n",
       "      <td>0.073711</td>\n",
       "      <td>-0.000376</td>\n",
       "    </tr>\n",
       "    <tr>\n",
       "      <th>Tot_Benes</th>\n",
       "      <td>0.769742</td>\n",
       "      <td>0.786113</td>\n",
       "      <td>0.749944</td>\n",
       "      <td>0.077857</td>\n",
       "      <td>1.000000</td>\n",
       "      <td>0.757743</td>\n",
       "      <td>0.771013</td>\n",
       "      <td>0.078558</td>\n",
       "      <td>0.744116</td>\n",
       "      <td>0.970121</td>\n",
       "      <td>-0.001104</td>\n",
       "    </tr>\n",
       "    <tr>\n",
       "      <th>GE65_Tot_Clms</th>\n",
       "      <td>0.962216</td>\n",
       "      <td>0.910970</td>\n",
       "      <td>0.834371</td>\n",
       "      <td>0.094080</td>\n",
       "      <td>0.757743</td>\n",
       "      <td>1.000000</td>\n",
       "      <td>0.911601</td>\n",
       "      <td>0.112804</td>\n",
       "      <td>0.831941</td>\n",
       "      <td>0.730604</td>\n",
       "      <td>-0.001341</td>\n",
       "    </tr>\n",
       "    <tr>\n",
       "      <th>GE65_Tot_30day_Fills</th>\n",
       "      <td>0.859029</td>\n",
       "      <td>0.980463</td>\n",
       "      <td>0.960540</td>\n",
       "      <td>0.062973</td>\n",
       "      <td>0.771013</td>\n",
       "      <td>0.911601</td>\n",
       "      <td>1.000000</td>\n",
       "      <td>0.082158</td>\n",
       "      <td>0.979399</td>\n",
       "      <td>0.766890</td>\n",
       "      <td>-0.001733</td>\n",
       "    </tr>\n",
       "    <tr>\n",
       "      <th>GE65_Tot_Drug_Cst</th>\n",
       "      <td>0.106505</td>\n",
       "      <td>0.080959</td>\n",
       "      <td>0.074296</td>\n",
       "      <td>0.910087</td>\n",
       "      <td>0.078558</td>\n",
       "      <td>0.112804</td>\n",
       "      <td>0.082158</td>\n",
       "      <td>1.000000</td>\n",
       "      <td>0.075081</td>\n",
       "      <td>0.087502</td>\n",
       "      <td>-0.000564</td>\n",
       "    </tr>\n",
       "    <tr>\n",
       "      <th>GE65_Tot_Day_Suply</th>\n",
       "      <td>0.787224</td>\n",
       "      <td>0.961045</td>\n",
       "      <td>0.980696</td>\n",
       "      <td>0.056915</td>\n",
       "      <td>0.744116</td>\n",
       "      <td>0.831941</td>\n",
       "      <td>0.979399</td>\n",
       "      <td>0.075081</td>\n",
       "      <td>1.000000</td>\n",
       "      <td>0.735573</td>\n",
       "      <td>-0.001632</td>\n",
       "    </tr>\n",
       "    <tr>\n",
       "      <th>GE65_Tot_Benes</th>\n",
       "      <td>0.694164</td>\n",
       "      <td>0.755676</td>\n",
       "      <td>0.721586</td>\n",
       "      <td>0.073711</td>\n",
       "      <td>0.970121</td>\n",
       "      <td>0.730604</td>\n",
       "      <td>0.766890</td>\n",
       "      <td>0.087502</td>\n",
       "      <td>0.735573</td>\n",
       "      <td>1.000000</td>\n",
       "      <td>-0.008298</td>\n",
       "    </tr>\n",
       "    <tr>\n",
       "      <th>is_fraud</th>\n",
       "      <td>-0.000334</td>\n",
       "      <td>-0.001279</td>\n",
       "      <td>-0.001116</td>\n",
       "      <td>-0.000376</td>\n",
       "      <td>-0.001104</td>\n",
       "      <td>-0.001341</td>\n",
       "      <td>-0.001733</td>\n",
       "      <td>-0.000564</td>\n",
       "      <td>-0.001632</td>\n",
       "      <td>-0.008298</td>\n",
       "      <td>1.000000</td>\n",
       "    </tr>\n",
       "  </tbody>\n",
       "</table>\n",
       "</div>"
      ],
      "text/plain": [
       "                      Tot_Clms  Tot_30day_Fills  Tot_Day_Suply  Tot_Drug_Cst  \\\n",
       "Tot_Clms              1.000000         0.908550       0.842299      0.112111   \n",
       "Tot_30day_Fills       0.908550         1.000000       0.982636      0.078690   \n",
       "Tot_Day_Suply         0.842299         0.982636       1.000000      0.074553   \n",
       "Tot_Drug_Cst          0.112111         0.078690       0.074553      1.000000   \n",
       "Tot_Benes             0.769742         0.786113       0.749944      0.077857   \n",
       "GE65_Tot_Clms         0.962216         0.910970       0.834371      0.094080   \n",
       "GE65_Tot_30day_Fills  0.859029         0.980463       0.960540      0.062973   \n",
       "GE65_Tot_Drug_Cst     0.106505         0.080959       0.074296      0.910087   \n",
       "GE65_Tot_Day_Suply    0.787224         0.961045       0.980696      0.056915   \n",
       "GE65_Tot_Benes        0.694164         0.755676       0.721586      0.073711   \n",
       "is_fraud             -0.000334        -0.001279      -0.001116     -0.000376   \n",
       "\n",
       "                      Tot_Benes  GE65_Tot_Clms  GE65_Tot_30day_Fills  \\\n",
       "Tot_Clms               0.769742       0.962216              0.859029   \n",
       "Tot_30day_Fills        0.786113       0.910970              0.980463   \n",
       "Tot_Day_Suply          0.749944       0.834371              0.960540   \n",
       "Tot_Drug_Cst           0.077857       0.094080              0.062973   \n",
       "Tot_Benes              1.000000       0.757743              0.771013   \n",
       "GE65_Tot_Clms          0.757743       1.000000              0.911601   \n",
       "GE65_Tot_30day_Fills   0.771013       0.911601              1.000000   \n",
       "GE65_Tot_Drug_Cst      0.078558       0.112804              0.082158   \n",
       "GE65_Tot_Day_Suply     0.744116       0.831941              0.979399   \n",
       "GE65_Tot_Benes         0.970121       0.730604              0.766890   \n",
       "is_fraud              -0.001104      -0.001341             -0.001733   \n",
       "\n",
       "                      GE65_Tot_Drug_Cst  GE65_Tot_Day_Suply  GE65_Tot_Benes  \\\n",
       "Tot_Clms                       0.106505            0.787224        0.694164   \n",
       "Tot_30day_Fills                0.080959            0.961045        0.755676   \n",
       "Tot_Day_Suply                  0.074296            0.980696        0.721586   \n",
       "Tot_Drug_Cst                   0.910087            0.056915        0.073711   \n",
       "Tot_Benes                      0.078558            0.744116        0.970121   \n",
       "GE65_Tot_Clms                  0.112804            0.831941        0.730604   \n",
       "GE65_Tot_30day_Fills           0.082158            0.979399        0.766890   \n",
       "GE65_Tot_Drug_Cst              1.000000            0.075081        0.087502   \n",
       "GE65_Tot_Day_Suply             0.075081            1.000000        0.735573   \n",
       "GE65_Tot_Benes                 0.087502            0.735573        1.000000   \n",
       "is_fraud                      -0.000564           -0.001632       -0.008298   \n",
       "\n",
       "                      is_fraud  \n",
       "Tot_Clms             -0.000334  \n",
       "Tot_30day_Fills      -0.001279  \n",
       "Tot_Day_Suply        -0.001116  \n",
       "Tot_Drug_Cst         -0.000376  \n",
       "Tot_Benes            -0.001104  \n",
       "GE65_Tot_Clms        -0.001341  \n",
       "GE65_Tot_30day_Fills -0.001733  \n",
       "GE65_Tot_Drug_Cst    -0.000564  \n",
       "GE65_Tot_Day_Suply   -0.001632  \n",
       "GE65_Tot_Benes       -0.008298  \n",
       "is_fraud              1.000000  "
      ]
     },
     "execution_count": 40,
     "metadata": {},
     "output_type": "execute_result"
    }
   ],
   "source": [
    "corrmat"
   ]
  },
  {
   "cell_type": "markdown",
   "metadata": {},
   "source": [
    "## Inference \n",
    "- Tot_Clms seem to be highly correlated with most of the columns except GE65_Tot_Drug_Cs,GE65_Tot_Day_Suply etc .\n",
    "- will  not impute anything for now and will go for few more exploration . "
   ]
  },
  {
   "cell_type": "markdown",
   "metadata": {},
   "source": [
    "## Plot between Tot_Clms and is_fraud "
   ]
  },
  {
   "cell_type": "code",
   "execution_count": 41,
   "metadata": {},
   "outputs": [
    {
     "data": {
      "image/png": "[encoded data removed]",
      "text/plain": [
       "<Figure size 432x288 with 1 Axes>"
      ]
     },
     "metadata": {},
     "output_type": "display_data"
    }
   ],
   "source": [
    "sns.scatterplot(data=df_subset, x='is_fraud',y='Tot_Clms');"
   ]
  },
  {
   "cell_type": "markdown",
   "metadata": {},
   "source": [
    "## Plot between Tot_Clms , Tot_Drug_Cst"
   ]
  },
  {
   "cell_type": "code",
   "execution_count": 42,
   "metadata": {},
   "outputs": [
    {
     "data": {
      "image/png": "[encoded data removed]",
      "text/plain": [
       "<Figure size 432x288 with 1 Axes>"
      ]
     },
     "metadata": {},
     "output_type": "display_data"
    }
   ],
   "source": [
    "sns.scatterplot(data=df_subset, x='Tot_Drug_Cst',y='Tot_Clms');\n"
   ]
  },
  {
   "cell_type": "markdown",
   "metadata": {},
   "source": [
    "### Inference\n",
    "- Can't see much of relation between both  "
   ]
  },
  {
   "cell_type": "markdown",
   "metadata": {},
   "source": [
    "## Plot between Tot_Clms , Tot_30day_Fills"
   ]
  },
  {
   "cell_type": "code",
   "execution_count": 43,
   "metadata": {},
   "outputs": [
    {
     "data": {
      "image/png": "[encoded data removed]",
      "text/plain": [
       "<Figure size 432x288 with 1 Axes>"
      ]
     },
     "metadata": {},
     "output_type": "display_data"
    }
   ],
   "source": [
    "sns.scatterplot(data=df_subset, x='Tot_30day_Fills',y='Tot_Clms');"
   ]
  },
  {
   "cell_type": "markdown",
   "metadata": {},
   "source": [
    "### Inference \n",
    "- With Increase in tot_30_fills tot_claims is increasing."
   ]
  },
  {
   "cell_type": "code",
   "execution_count": 44,
   "metadata": {},
   "outputs": [
    {
     "name": "stdout",
     "output_type": "stream",
     "text": [
      "<class 'pandas.core.frame.DataFrame'>\n",
      "Int64Index: 100000 entries, 16923230 to 19600933\n",
      "Data columns (total 23 columns):\n",
      " #   Column                 Non-Null Count   Dtype  \n",
      "---  ------                 --------------   -----  \n",
      " 0   Prscrbr_NPI            100000 non-null  int64  \n",
      " 1   Prscrbr_Last_Org_Name  100000 non-null  object \n",
      " 2   Prscrbr_First_Name     100000 non-null  object \n",
      " 3   Prscrbr_City           100000 non-null  object \n",
      " 4   Prscrbr_State_Abrvtn   100000 non-null  object \n",
      " 5   Prscrbr_State_FIPS     100000 non-null  object \n",
      " 6   Prscrbr_Type           100000 non-null  object \n",
      " 7   Prscrbr_Type_Src       100000 non-null  object \n",
      " 8   Brnd_Name              100000 non-null  object \n",
      " 9   Gnrc_Name              100000 non-null  object \n",
      " 10  Tot_Clms               100000 non-null  float64\n",
      " 11  Tot_30day_Fills        100000 non-null  float64\n",
      " 12  Tot_Day_Suply          100000 non-null  float64\n",
      " 13  Tot_Drug_Cst           100000 non-null  float64\n",
      " 14  Tot_Benes              42001 non-null   float64\n",
      " 15  GE65_Sprsn_Flag        44671 non-null   object \n",
      " 16  GE65_Tot_Clms          55329 non-null   float64\n",
      " 17  GE65_Tot_30day_Fills   55329 non-null   float64\n",
      " 18  GE65_Tot_Drug_Cst      55329 non-null   float64\n",
      " 19  GE65_Tot_Day_Suply     55329 non-null   float64\n",
      " 20  GE65_Bene_Sprsn_Flag   89807 non-null   object \n",
      " 21  GE65_Tot_Benes         10193 non-null   float64\n",
      " 22  is_fraud               100000 non-null  float64\n",
      "dtypes: float64(11), int64(1), object(11)\n",
      "memory usage: 18.3+ MB\n"
     ]
    }
   ],
   "source": [
    "df_subset.info()"
   ]
  },
  {
   "cell_type": "markdown",
   "metadata": {},
   "source": [
    "## Separate X and Y "
   ]
  },
  {
   "cell_type": "code",
   "execution_count": 45,
   "metadata": {},
   "outputs": [
    {
     "data": {
      "text/plain": [
       "((100000, 21), (100000,))"
      ]
     },
     "execution_count": 45,
     "metadata": {},
     "output_type": "execute_result"
    }
   ],
   "source": [
    "out_col = 'is_fraud'\n",
    "X = df_subset.drop(out_col, axis=1)\n",
    "X_Id = X.pop('Prscrbr_NPI')\n",
    "y = df_subset['is_fraud']\n",
    "X.shape, y.shape"
   ]
  },
  {
   "cell_type": "markdown",
   "metadata": {},
   "source": [
    "## Split Train test "
   ]
  },
  {
   "cell_type": "code",
   "execution_count": 46,
   "metadata": {},
   "outputs": [
    {
     "data": {
      "text/plain": [
       "((70000, 21), (30000, 21), (70000,), (30000,))"
      ]
     },
     "execution_count": 46,
     "metadata": {},
     "output_type": "execute_result"
    }
   ],
   "source": [
    "from sklearn.model_selection import train_test_split\n",
    "X_train, X_test, y_train, y_test = train_test_split(X, y, test_size=0.30, random_state=1)\n",
    "X_train.shape, X_test.shape, y_train.shape, y_test.shape"
   ]
  },
  {
   "cell_type": "code",
   "execution_count": 47,
   "metadata": {},
   "outputs": [
    {
     "data": {
      "text/plain": [
       "0.0    0.999757\n",
       "1.0    0.000243\n",
       "Name: is_fraud, dtype: float64"
      ]
     },
     "execution_count": 47,
     "metadata": {},
     "output_type": "execute_result"
    }
   ],
   "source": [
    "y_train.value_counts(normalize = True)"
   ]
  },
  {
   "cell_type": "markdown",
   "metadata": {},
   "source": [
    "#### There exists a huge imbalance in the class "
   ]
  },
  {
   "cell_type": "code",
   "execution_count": null,
   "metadata": {},
   "outputs": [],
   "source": []
  },
  {
   "cell_type": "code",
   "execution_count": null,
   "metadata": {},
   "outputs": [],
   "source": []
  },
  {
   "cell_type": "code",
   "execution_count": null,
   "metadata": {},
   "outputs": [],
   "source": []
  },
  {
   "cell_type": "code",
   "execution_count": null,
   "metadata": {},
   "outputs": [],
   "source": []
  },
  {
   "cell_type": "code",
   "execution_count": null,
   "metadata": {},
   "outputs": [],
   "source": []
  },
  {
   "cell_type": "code",
   "execution_count": null,
   "metadata": {},
   "outputs": [],
   "source": []
  },
  {
   "cell_type": "code",
   "execution_count": null,
   "metadata": {},
   "outputs": [],
   "source": [
    "\n"
   ]
  },
  {
   "cell_type": "code",
   "execution_count": null,
   "metadata": {},
   "outputs": [],
   "source": []
  }
 ],
 "metadata": {
  "kernelspec": {
   "display_name": "Python 3",
   "language": "python",
   "name": "python3"
  },
  "language_info": {
   "codemirror_mode": {
    "name": "ipython",
    "version": 3
   },
   "file_extension": ".py",
   "mimetype": "text/x-python",
   "name": "python",
   "nbconvert_exporter": "python",
   "pygments_lexer": "ipython3",
   "version": "3.8.3"
  }
 },
 "nbformat": 4,
 "nbformat_minor": 4
}
