{
 "cells": [
  {
   "cell_type": "code",
   "execution_count": 1,
   "metadata": {},
   "outputs": [],
   "source": [
    "#https://journalofbigdata.springeropen.com/articles/10.1186/s40537-018-0138-3\n",
    "#https://github.com/lkuzz/Medicare-Part-D-Analysis/blob/master/Data%20Processing.ipynb\n",
    "#https://www.cms.gov/Research-Statistics-Data-and-Systems/Statistics-Trends-and-Reports/Medicare-Provider-Charge-Data/Downloads/Prescriber_Methods.pdf\n",
    "#https://www.cms.gov/Research-Statistics-Data-and-Systems/Statistics-Trends-and-Reports/Medicare-Provider-Charge-Data/Downloads/Prescriber_Methods.pdf\n",
    "import pandas as pd\n",
    "import numpy as np\n",
    "import matplotlib.pyplot as plt\n",
    "import seaborn as sns"
   ]
  },
  {
   "cell_type": "code",
   "execution_count": 2,
   "metadata": {},
   "outputs": [],
   "source": [
    "#Part D data can be considered to provide procedure-level information.\n",
    "my_list = []\n",
    "for chunk in  pd.read_csv(r'D:\\Data _Science\\IndependentResearch\\provider_charge_data\\Medicare_Part_D_Prescribers_by_Provider_and_Drug_2019_12_31\\Medicare_Part_D_Prescribers_by_Provider_and_Drug_2019_12_31.csv', chunksize=20000,encoding='latin-1',low_memory=False, error_bad_lines = False):\n",
    "    my_list.append(chunk)\n"
   ]
  },
  {
   "cell_type": "code",
   "execution_count": 3,
   "metadata": {},
   "outputs": [],
   "source": [
    "df= pd.concat(my_list, axis= 0)"
   ]
  },
  {
   "cell_type": "code",
   "execution_count": 4,
   "metadata": {},
   "outputs": [
    {
     "data": {
      "text/html": [
       "<div>\n",
       "<style scoped>\n",
       "    .dataframe tbody tr th:only-of-type {\n",
       "        vertical-align: middle;\n",
       "    }\n",
       "\n",
       "    .dataframe tbody tr th {\n",
       "        vertical-align: top;\n",
       "    }\n",
       "\n",
       "    .dataframe thead th {\n",
       "        text-align: right;\n",
       "    }\n",
       "</style>\n",
       "<table border=\"1\" class=\"dataframe\">\n",
       "  <thead>\n",
       "    <tr style=\"text-align: right;\">\n",
       "      <th></th>\n",
       "      <th>Prscrbr_NPI</th>\n",
       "      <th>Prscrbr_Last_Org_Name</th>\n",
       "      <th>Prscrbr_First_Name</th>\n",
       "      <th>Prscrbr_City</th>\n",
       "      <th>Prscrbr_State_Abrvtn</th>\n",
       "      <th>Prscrbr_State_FIPS</th>\n",
       "      <th>Prscrbr_Type</th>\n",
       "      <th>Prscrbr_Type_Src</th>\n",
       "      <th>Brnd_Name</th>\n",
       "      <th>Gnrc_Name</th>\n",
       "      <th>...</th>\n",
       "      <th>Tot_Day_Suply</th>\n",
       "      <th>Tot_Drug_Cst</th>\n",
       "      <th>Tot_Benes</th>\n",
       "      <th>GE65_Sprsn_Flag</th>\n",
       "      <th>GE65_Tot_Clms</th>\n",
       "      <th>GE65_Tot_30day_Fills</th>\n",
       "      <th>GE65_Tot_Drug_Cst</th>\n",
       "      <th>GE65_Tot_Day_Suply</th>\n",
       "      <th>GE65_Bene_Sprsn_Flag</th>\n",
       "      <th>GE65_Tot_Benes</th>\n",
       "    </tr>\n",
       "  </thead>\n",
       "  <tbody>\n",
       "    <tr>\n",
       "      <th>0</th>\n",
       "      <td>1003000126</td>\n",
       "      <td>Enkeshafi</td>\n",
       "      <td>Ardalan</td>\n",
       "      <td>Cumberland</td>\n",
       "      <td>MD</td>\n",
       "      <td>24</td>\n",
       "      <td>Internal Medicine</td>\n",
       "      <td>S</td>\n",
       "      <td>Amiodarone Hcl</td>\n",
       "      <td>Amiodarone Hcl</td>\n",
       "      <td>...</td>\n",
       "      <td>360</td>\n",
       "      <td>150.76</td>\n",
       "      <td>NaN</td>\n",
       "      <td>NaN</td>\n",
       "      <td>13.0</td>\n",
       "      <td>13.0</td>\n",
       "      <td>150.76</td>\n",
       "      <td>360.0</td>\n",
       "      <td>*</td>\n",
       "      <td>NaN</td>\n",
       "    </tr>\n",
       "    <tr>\n",
       "      <th>1</th>\n",
       "      <td>1003000126</td>\n",
       "      <td>Enkeshafi</td>\n",
       "      <td>Ardalan</td>\n",
       "      <td>Cumberland</td>\n",
       "      <td>MD</td>\n",
       "      <td>24</td>\n",
       "      <td>Internal Medicine</td>\n",
       "      <td>S</td>\n",
       "      <td>Amlodipine Besylate</td>\n",
       "      <td>Amlodipine Besylate</td>\n",
       "      <td>...</td>\n",
       "      <td>780</td>\n",
       "      <td>92.81</td>\n",
       "      <td>12.0</td>\n",
       "      <td>NaN</td>\n",
       "      <td>22.0</td>\n",
       "      <td>26.0</td>\n",
       "      <td>92.81</td>\n",
       "      <td>780.0</td>\n",
       "      <td>NaN</td>\n",
       "      <td>12.0</td>\n",
       "    </tr>\n",
       "    <tr>\n",
       "      <th>2</th>\n",
       "      <td>1003000126</td>\n",
       "      <td>Enkeshafi</td>\n",
       "      <td>Ardalan</td>\n",
       "      <td>Cumberland</td>\n",
       "      <td>MD</td>\n",
       "      <td>24</td>\n",
       "      <td>Internal Medicine</td>\n",
       "      <td>S</td>\n",
       "      <td>Atorvastatin Calcium</td>\n",
       "      <td>Atorvastatin Calcium</td>\n",
       "      <td>...</td>\n",
       "      <td>1482</td>\n",
       "      <td>373.60</td>\n",
       "      <td>22.0</td>\n",
       "      <td>NaN</td>\n",
       "      <td>41.0</td>\n",
       "      <td>50.0</td>\n",
       "      <td>373.60</td>\n",
       "      <td>1482.0</td>\n",
       "      <td>NaN</td>\n",
       "      <td>22.0</td>\n",
       "    </tr>\n",
       "    <tr>\n",
       "      <th>3</th>\n",
       "      <td>1003000126</td>\n",
       "      <td>Enkeshafi</td>\n",
       "      <td>Ardalan</td>\n",
       "      <td>Cumberland</td>\n",
       "      <td>MD</td>\n",
       "      <td>24</td>\n",
       "      <td>Internal Medicine</td>\n",
       "      <td>S</td>\n",
       "      <td>Azithromycin</td>\n",
       "      <td>Azithromycin</td>\n",
       "      <td>...</td>\n",
       "      <td>77</td>\n",
       "      <td>132.57</td>\n",
       "      <td>15.0</td>\n",
       "      <td>#</td>\n",
       "      <td>NaN</td>\n",
       "      <td>NaN</td>\n",
       "      <td>NaN</td>\n",
       "      <td>NaN</td>\n",
       "      <td>#</td>\n",
       "      <td>NaN</td>\n",
       "    </tr>\n",
       "    <tr>\n",
       "      <th>4</th>\n",
       "      <td>1003000126</td>\n",
       "      <td>Enkeshafi</td>\n",
       "      <td>Ardalan</td>\n",
       "      <td>Cumberland</td>\n",
       "      <td>MD</td>\n",
       "      <td>24</td>\n",
       "      <td>Internal Medicine</td>\n",
       "      <td>S</td>\n",
       "      <td>Carvedilol</td>\n",
       "      <td>Carvedilol</td>\n",
       "      <td>...</td>\n",
       "      <td>787</td>\n",
       "      <td>118.53</td>\n",
       "      <td>11.0</td>\n",
       "      <td>NaN</td>\n",
       "      <td>21.0</td>\n",
       "      <td>27.0</td>\n",
       "      <td>118.53</td>\n",
       "      <td>787.0</td>\n",
       "      <td>NaN</td>\n",
       "      <td>11.0</td>\n",
       "    </tr>\n",
       "  </tbody>\n",
       "</table>\n",
       "<p>5 rows × 22 columns</p>\n",
       "</div>"
      ],
      "text/plain": [
       "   Prscrbr_NPI Prscrbr_Last_Org_Name Prscrbr_First_Name Prscrbr_City  \\\n",
       "0   1003000126             Enkeshafi            Ardalan   Cumberland   \n",
       "1   1003000126             Enkeshafi            Ardalan   Cumberland   \n",
       "2   1003000126             Enkeshafi            Ardalan   Cumberland   \n",
       "3   1003000126             Enkeshafi            Ardalan   Cumberland   \n",
       "4   1003000126             Enkeshafi            Ardalan   Cumberland   \n",
       "\n",
       "  Prscrbr_State_Abrvtn Prscrbr_State_FIPS       Prscrbr_Type Prscrbr_Type_Src  \\\n",
       "0                   MD                 24  Internal Medicine                S   \n",
       "1                   MD                 24  Internal Medicine                S   \n",
       "2                   MD                 24  Internal Medicine                S   \n",
       "3                   MD                 24  Internal Medicine                S   \n",
       "4                   MD                 24  Internal Medicine                S   \n",
       "\n",
       "              Brnd_Name             Gnrc_Name  ...  Tot_Day_Suply  \\\n",
       "0        Amiodarone Hcl        Amiodarone Hcl  ...            360   \n",
       "1   Amlodipine Besylate   Amlodipine Besylate  ...            780   \n",
       "2  Atorvastatin Calcium  Atorvastatin Calcium  ...           1482   \n",
       "3          Azithromycin          Azithromycin  ...             77   \n",
       "4            Carvedilol            Carvedilol  ...            787   \n",
       "\n",
       "   Tot_Drug_Cst  Tot_Benes  GE65_Sprsn_Flag  GE65_Tot_Clms  \\\n",
       "0        150.76        NaN              NaN           13.0   \n",
       "1         92.81       12.0              NaN           22.0   \n",
       "2        373.60       22.0              NaN           41.0   \n",
       "3        132.57       15.0                #            NaN   \n",
       "4        118.53       11.0              NaN           21.0   \n",
       "\n",
       "  GE65_Tot_30day_Fills  GE65_Tot_Drug_Cst  GE65_Tot_Day_Suply  \\\n",
       "0                 13.0             150.76               360.0   \n",
       "1                 26.0              92.81               780.0   \n",
       "2                 50.0             373.60              1482.0   \n",
       "3                  NaN                NaN                 NaN   \n",
       "4                 27.0             118.53               787.0   \n",
       "\n",
       "   GE65_Bene_Sprsn_Flag  GE65_Tot_Benes  \n",
       "0                     *             NaN  \n",
       "1                   NaN            12.0  \n",
       "2                   NaN            22.0  \n",
       "3                     #             NaN  \n",
       "4                   NaN            11.0  \n",
       "\n",
       "[5 rows x 22 columns]"
      ]
     },
     "execution_count": 4,
     "metadata": {},
     "output_type": "execute_result"
    }
   ],
   "source": [
    "df.head()"
   ]
  },
  {
   "cell_type": "code",
   "execution_count": 5,
   "metadata": {},
   "outputs": [
    {
     "name": "stdout",
     "output_type": "stream",
     "text": [
      "<class 'pandas.core.frame.DataFrame'>\n",
      "RangeIndex: 25401870 entries, 0 to 25401869\n",
      "Data columns (total 22 columns):\n",
      " #   Column                 Dtype  \n",
      "---  ------                 -----  \n",
      " 0   Prscrbr_NPI            int64  \n",
      " 1   Prscrbr_Last_Org_Name  object \n",
      " 2   Prscrbr_First_Name     object \n",
      " 3   Prscrbr_City           object \n",
      " 4   Prscrbr_State_Abrvtn   object \n",
      " 5   Prscrbr_State_FIPS     object \n",
      " 6   Prscrbr_Type           object \n",
      " 7   Prscrbr_Type_Src       object \n",
      " 8   Brnd_Name              object \n",
      " 9   Gnrc_Name              object \n",
      " 10  Tot_Clms               int64  \n",
      " 11  Tot_30day_Fills        float64\n",
      " 12  Tot_Day_Suply          int64  \n",
      " 13  Tot_Drug_Cst           float64\n",
      " 14  Tot_Benes              float64\n",
      " 15  GE65_Sprsn_Flag        object \n",
      " 16  GE65_Tot_Clms          float64\n",
      " 17  GE65_Tot_30day_Fills   float64\n",
      " 18  GE65_Tot_Drug_Cst      float64\n",
      " 19  GE65_Tot_Day_Suply     float64\n",
      " 20  GE65_Bene_Sprsn_Flag   object \n",
      " 21  GE65_Tot_Benes         float64\n",
      "dtypes: float64(8), int64(3), object(11)\n",
      "memory usage: 4.2+ GB\n"
     ]
    }
   ],
   "source": [
    "df.info()"
   ]
  },
  {
   "cell_type": "code",
   "execution_count": 6,
   "metadata": {},
   "outputs": [
    {
     "data": {
      "text/html": [
       "<div>\n",
       "<style scoped>\n",
       "    .dataframe tbody tr th:only-of-type {\n",
       "        vertical-align: middle;\n",
       "    }\n",
       "\n",
       "    .dataframe tbody tr th {\n",
       "        vertical-align: top;\n",
       "    }\n",
       "\n",
       "    .dataframe thead th {\n",
       "        text-align: right;\n",
       "    }\n",
       "</style>\n",
       "<table border=\"1\" class=\"dataframe\">\n",
       "  <thead>\n",
       "    <tr style=\"text-align: right;\">\n",
       "      <th></th>\n",
       "      <th>Prscrbr_NPI</th>\n",
       "      <th>Tot_Clms</th>\n",
       "      <th>Tot_30day_Fills</th>\n",
       "      <th>Tot_Day_Suply</th>\n",
       "      <th>Tot_Drug_Cst</th>\n",
       "      <th>Tot_Benes</th>\n",
       "      <th>GE65_Tot_Clms</th>\n",
       "      <th>GE65_Tot_30day_Fills</th>\n",
       "      <th>GE65_Tot_Drug_Cst</th>\n",
       "      <th>GE65_Tot_Day_Suply</th>\n",
       "      <th>GE65_Tot_Benes</th>\n",
       "    </tr>\n",
       "  </thead>\n",
       "  <tbody>\n",
       "    <tr>\n",
       "      <th>count</th>\n",
       "      <td>2.540187e+07</td>\n",
       "      <td>2.540187e+07</td>\n",
       "      <td>2.540187e+07</td>\n",
       "      <td>2.540187e+07</td>\n",
       "      <td>2.540187e+07</td>\n",
       "      <td>1.070614e+07</td>\n",
       "      <td>1.402100e+07</td>\n",
       "      <td>1.402100e+07</td>\n",
       "      <td>1.402100e+07</td>\n",
       "      <td>1.402100e+07</td>\n",
       "      <td>2.589094e+06</td>\n",
       "    </tr>\n",
       "    <tr>\n",
       "      <th>mean</th>\n",
       "      <td>1.499506e+09</td>\n",
       "      <td>5.097666e+01</td>\n",
       "      <td>8.669875e+01</td>\n",
       "      <td>2.433167e+03</td>\n",
       "      <td>5.394291e+03</td>\n",
       "      <td>3.012260e+01</td>\n",
       "      <td>4.962052e+01</td>\n",
       "      <td>8.759334e+01</td>\n",
       "      <td>4.886409e+03</td>\n",
       "      <td>2.487666e+03</td>\n",
       "      <td>3.333644e+01</td>\n",
       "    </tr>\n",
       "    <tr>\n",
       "      <th>std</th>\n",
       "      <td>2.877596e+08</td>\n",
       "      <td>1.272163e+02</td>\n",
       "      <td>1.845877e+02</td>\n",
       "      <td>4.700585e+03</td>\n",
       "      <td>3.749361e+04</td>\n",
       "      <td>1.039127e+02</td>\n",
       "      <td>1.488382e+02</td>\n",
       "      <td>2.084941e+02</td>\n",
       "      <td>3.666938e+04</td>\n",
       "      <td>5.024198e+03</td>\n",
       "      <td>1.961413e+02</td>\n",
       "    </tr>\n",
       "    <tr>\n",
       "      <th>min</th>\n",
       "      <td>1.003000e+09</td>\n",
       "      <td>1.100000e+01</td>\n",
       "      <td>1.100000e+01</td>\n",
       "      <td>1.000000e+01</td>\n",
       "      <td>0.000000e+00</td>\n",
       "      <td>1.100000e+01</td>\n",
       "      <td>0.000000e+00</td>\n",
       "      <td>0.000000e+00</td>\n",
       "      <td>0.000000e+00</td>\n",
       "      <td>0.000000e+00</td>\n",
       "      <td>0.000000e+00</td>\n",
       "    </tr>\n",
       "    <tr>\n",
       "      <th>25%</th>\n",
       "      <td>1.245673e+09</td>\n",
       "      <td>1.500000e+01</td>\n",
       "      <td>2.100000e+01</td>\n",
       "      <td>4.800000e+02</td>\n",
       "      <td>2.621900e+02</td>\n",
       "      <td>1.400000e+01</td>\n",
       "      <td>1.300000e+01</td>\n",
       "      <td>1.800000e+01</td>\n",
       "      <td>2.248300e+02</td>\n",
       "      <td>4.250000e+02</td>\n",
       "      <td>1.300000e+01</td>\n",
       "    </tr>\n",
       "    <tr>\n",
       "      <th>50%</th>\n",
       "      <td>1.497925e+09</td>\n",
       "      <td>2.400000e+01</td>\n",
       "      <td>3.800000e+01</td>\n",
       "      <td>1.020000e+03</td>\n",
       "      <td>6.713800e+02</td>\n",
       "      <td>2.000000e+01</td>\n",
       "      <td>2.200000e+01</td>\n",
       "      <td>3.600000e+01</td>\n",
       "      <td>6.200600e+02</td>\n",
       "      <td>9.900000e+02</td>\n",
       "      <td>1.900000e+01</td>\n",
       "    </tr>\n",
       "    <tr>\n",
       "      <th>75%</th>\n",
       "      <td>1.740720e+09</td>\n",
       "      <td>5.000000e+01</td>\n",
       "      <td>8.200000e+01</td>\n",
       "      <td>2.310000e+03</td>\n",
       "      <td>2.161750e+03</td>\n",
       "      <td>3.300000e+01</td>\n",
       "      <td>4.700000e+01</td>\n",
       "      <td>8.000000e+01</td>\n",
       "      <td>2.035420e+03</td>\n",
       "      <td>2.250000e+03</td>\n",
       "      <td>3.400000e+01</td>\n",
       "    </tr>\n",
       "    <tr>\n",
       "      <th>max</th>\n",
       "      <td>1.993000e+09</td>\n",
       "      <td>1.993870e+05</td>\n",
       "      <td>2.047677e+05</td>\n",
       "      <td>6.066460e+05</td>\n",
       "      <td>3.343712e+07</td>\n",
       "      <td>1.418610e+05</td>\n",
       "      <td>1.906370e+05</td>\n",
       "      <td>1.957407e+05</td>\n",
       "      <td>3.196401e+07</td>\n",
       "      <td>5.928350e+05</td>\n",
       "      <td>1.355460e+05</td>\n",
       "    </tr>\n",
       "  </tbody>\n",
       "</table>\n",
       "</div>"
      ],
      "text/plain": [
       "        Prscrbr_NPI      Tot_Clms  Tot_30day_Fills  Tot_Day_Suply  \\\n",
       "count  2.540187e+07  2.540187e+07     2.540187e+07   2.540187e+07   \n",
       "mean   1.499506e+09  5.097666e+01     8.669875e+01   2.433167e+03   \n",
       "std    2.877596e+08  1.272163e+02     1.845877e+02   4.700585e+03   \n",
       "min    1.003000e+09  1.100000e+01     1.100000e+01   1.000000e+01   \n",
       "25%    1.245673e+09  1.500000e+01     2.100000e+01   4.800000e+02   \n",
       "50%    1.497925e+09  2.400000e+01     3.800000e+01   1.020000e+03   \n",
       "75%    1.740720e+09  5.000000e+01     8.200000e+01   2.310000e+03   \n",
       "max    1.993000e+09  1.993870e+05     2.047677e+05   6.066460e+05   \n",
       "\n",
       "       Tot_Drug_Cst     Tot_Benes  GE65_Tot_Clms  GE65_Tot_30day_Fills  \\\n",
       "count  2.540187e+07  1.070614e+07   1.402100e+07          1.402100e+07   \n",
       "mean   5.394291e+03  3.012260e+01   4.962052e+01          8.759334e+01   \n",
       "std    3.749361e+04  1.039127e+02   1.488382e+02          2.084941e+02   \n",
       "min    0.000000e+00  1.100000e+01   0.000000e+00          0.000000e+00   \n",
       "25%    2.621900e+02  1.400000e+01   1.300000e+01          1.800000e+01   \n",
       "50%    6.713800e+02  2.000000e+01   2.200000e+01          3.600000e+01   \n",
       "75%    2.161750e+03  3.300000e+01   4.700000e+01          8.000000e+01   \n",
       "max    3.343712e+07  1.418610e+05   1.906370e+05          1.957407e+05   \n",
       "\n",
       "       GE65_Tot_Drug_Cst  GE65_Tot_Day_Suply  GE65_Tot_Benes  \n",
       "count       1.402100e+07        1.402100e+07    2.589094e+06  \n",
       "mean        4.886409e+03        2.487666e+03    3.333644e+01  \n",
       "std         3.666938e+04        5.024198e+03    1.961413e+02  \n",
       "min         0.000000e+00        0.000000e+00    0.000000e+00  \n",
       "25%         2.248300e+02        4.250000e+02    1.300000e+01  \n",
       "50%         6.200600e+02        9.900000e+02    1.900000e+01  \n",
       "75%         2.035420e+03        2.250000e+03    3.400000e+01  \n",
       "max         3.196401e+07        5.928350e+05    1.355460e+05  "
      ]
     },
     "execution_count": 6,
     "metadata": {},
     "output_type": "execute_result"
    }
   ],
   "source": [
    "df.describe()"
   ]
  },
  {
   "cell_type": "markdown",
   "metadata": {},
   "source": [
    "## 1. Inspecting the null % "
   ]
  },
  {
   "cell_type": "code",
   "execution_count": 7,
   "metadata": {},
   "outputs": [
    {
     "data": {
      "text/plain": [
       "Prscrbr_NPI               0.000000\n",
       "Prscrbr_Last_Org_Name     0.000000\n",
       "Prscrbr_First_Name        0.000000\n",
       "Prscrbr_City              0.000000\n",
       "Prscrbr_State_Abrvtn      0.000000\n",
       "Prscrbr_State_FIPS        0.000000\n",
       "Prscrbr_Type              0.000008\n",
       "Prscrbr_Type_Src          0.000000\n",
       "Brnd_Name                 0.000000\n",
       "Gnrc_Name                 0.000000\n",
       "Tot_Clms                  0.000000\n",
       "Tot_30day_Fills           0.000000\n",
       "Tot_Day_Suply             0.000000\n",
       "Tot_Drug_Cst              0.000000\n",
       "Tot_Benes                57.852938\n",
       "GE65_Sprsn_Flag          55.196728\n",
       "GE65_Tot_Clms            44.803272\n",
       "GE65_Tot_30day_Fills     44.803272\n",
       "GE65_Tot_Drug_Cst        44.803272\n",
       "GE65_Tot_Day_Suply       44.803272\n",
       "GE65_Bene_Sprsn_Flag     10.192533\n",
       "GE65_Tot_Benes           89.807467\n",
       "dtype: float64"
      ]
     },
     "execution_count": 7,
     "metadata": {},
     "output_type": "execute_result"
    }
   ],
   "source": [
    "colnames=(df.isnull().sum()*100/len(df)) \n",
    "colnames"
   ]
  },
  {
   "cell_type": "markdown",
   "metadata": {},
   "source": [
    "### Inference \n",
    "- Tot_Benes                57.852938\n",
    "- GE65_Sprsn_Flag          55.196728\n",
    "- GE65_Tot_Clms            44.803272\n",
    "- GE65_Tot_30day_Fills     44.803272\n",
    "- GE65_Tot_Drug_Cst        44.803272\n",
    "- GE65_Tot_Day_Suply       44.803272\n",
    "- GE65_Bene_Sprsn_Flag     10.192533\n",
    "- GE65_Tot_Benes           89.807467\n",
    "\n",
    "GE65_Tot_Benes seems to have a lot of nulls this column might not be of use . \n",
    "\n"
   ]
  },
  {
   "cell_type": "code",
   "execution_count": 8,
   "metadata": {},
   "outputs": [
    {
     "data": {
      "text/plain": [
       "['Prscrbr_Last_Org_Name',\n",
       " 'Prscrbr_First_Name',\n",
       " 'Prscrbr_City',\n",
       " 'Prscrbr_State_Abrvtn',\n",
       " 'Prscrbr_State_FIPS',\n",
       " 'Prscrbr_Type',\n",
       " 'Prscrbr_Type_Src',\n",
       " 'Brnd_Name',\n",
       " 'Gnrc_Name',\n",
       " 'GE65_Sprsn_Flag',\n",
       " 'GE65_Bene_Sprsn_Flag']"
      ]
     },
     "execution_count": 8,
     "metadata": {},
     "output_type": "execute_result"
    }
   ],
   "source": [
    "cat_vals = df.select_dtypes(include=['object']).columns\n",
    "cat_vals=cat_vals.to_list()\n",
    "cat_vals"
   ]
  },
  {
   "cell_type": "markdown",
   "metadata": {},
   "source": [
    "Total number of rows in the dataset is 25,401,869. which is impossible to process with local resources as it almost consumes 4.2 gb of data.\n",
    "So taking a saple from the dataset.100,000 records"
   ]
  },
  {
   "cell_type": "code",
   "execution_count": 9,
   "metadata": {},
   "outputs": [],
   "source": [
    "df_subset= df.sample(n=100000) ## it performs a random sampling "
   ]
  },
  {
   "cell_type": "code",
   "execution_count": 10,
   "metadata": {},
   "outputs": [
    {
     "data": {
      "text/plain": [
       "Prscrbr_NPI               0.000\n",
       "Prscrbr_Last_Org_Name     0.000\n",
       "Prscrbr_First_Name        0.000\n",
       "Prscrbr_City              0.000\n",
       "Prscrbr_State_Abrvtn      0.000\n",
       "Prscrbr_State_FIPS        0.000\n",
       "Prscrbr_Type              0.000\n",
       "Prscrbr_Type_Src          0.000\n",
       "Brnd_Name                 0.000\n",
       "Gnrc_Name                 0.000\n",
       "Tot_Clms                  0.000\n",
       "Tot_30day_Fills           0.000\n",
       "Tot_Day_Suply             0.000\n",
       "Tot_Drug_Cst              0.000\n",
       "Tot_Benes                57.920\n",
       "GE65_Sprsn_Flag          54.971\n",
       "GE65_Tot_Clms            45.029\n",
       "GE65_Tot_30day_Fills     45.029\n",
       "GE65_Tot_Drug_Cst        45.029\n",
       "GE65_Tot_Day_Suply       45.029\n",
       "GE65_Bene_Sprsn_Flag     10.093\n",
       "GE65_Tot_Benes           89.907\n",
       "dtype: float64"
      ]
     },
     "execution_count": 10,
     "metadata": {},
     "output_type": "execute_result"
    }
   ],
   "source": [
    "colnames=(df_subset.isnull().sum()*100/len(df_subset)) \n",
    "colnames"
   ]
  },
  {
   "cell_type": "markdown",
   "metadata": {},
   "source": [
    "The sample dataset almost has the similar number of the null values, we can use that for our inference building and\n",
    "can run the entire dataset once the cloud environment is available "
   ]
  },
  {
   "cell_type": "code",
   "execution_count": 67,
   "metadata": {},
   "outputs": [
    {
     "data": {
      "text/plain": [
       "69908"
      ]
     },
     "execution_count": 67,
     "metadata": {},
     "output_type": "execute_result"
    }
   ],
   "source": [
    "## deleting the bigger dataframe now as it is causing system crash \n",
    "#import gc\n",
    "#del [[df]]\n",
    "#gc.collect()"
   ]
  },
  {
   "cell_type": "markdown",
   "metadata": {},
   "source": [
    "## Value Counts to see how the Data is spread into categories "
   ]
  },
  {
   "cell_type": "code",
   "execution_count": 19,
   "metadata": {},
   "outputs": [
    {
     "data": {
      "text/plain": [
       "['Prscrbr_Last_Org_Name',\n",
       " 'Prscrbr_First_Name',\n",
       " 'Prscrbr_City',\n",
       " 'Prscrbr_State_Abrvtn',\n",
       " 'Prscrbr_State_FIPS',\n",
       " 'Prscrbr_Type',\n",
       " 'Prscrbr_Type_Src',\n",
       " 'Brnd_Name',\n",
       " 'Gnrc_Name',\n",
       " 'GE65_Sprsn_Flag',\n",
       " 'GE65_Bene_Sprsn_Flag']"
      ]
     },
     "execution_count": 19,
     "metadata": {},
     "output_type": "execute_result"
    }
   ],
   "source": [
    "cat_vals"
   ]
  },
  {
   "cell_type": "code",
   "execution_count": 27,
   "metadata": {},
   "outputs": [],
   "source": [
    "from IPython.core.interactiveshell import InteractiveShell\n",
    "InteractiveShell.ast_node_interactivity = \"all\""
   ]
  },
  {
   "cell_type": "code",
   "execution_count": 29,
   "metadata": {
    "collapsed": true
   },
   "outputs": [
    {
     "data": {
      "text/plain": [
       "Smith                 597\n",
       "Patel                 551\n",
       "Johnson               381\n",
       "Lee                   373\n",
       "Miller                333\n",
       "                     ... \n",
       "Bridgman                1\n",
       "Fehrenbach Wolfson      1\n",
       "Dirk                    1\n",
       "Lourenco                1\n",
       "Lawrenz                 1\n",
       "Name: Prscrbr_Last_Org_Name, Length: 40500, dtype: int64"
      ]
     },
     "execution_count": 29,
     "metadata": {},
     "output_type": "execute_result"
    },
    {
     "data": {
      "text/plain": [
       "Michael           1930\n",
       "John              1818\n",
       "David             1735\n",
       "Robert            1507\n",
       "James             1426\n",
       "                  ... \n",
       "Sattar               1\n",
       "Ghada                1\n",
       "Virgen               1\n",
       "Boaz                 1\n",
       "Maria Kristina       1\n",
       "Name: Prscrbr_First_Name, Length: 14352, dtype: int64"
      ]
     },
     "execution_count": 29,
     "metadata": {},
     "output_type": "execute_result"
    },
    {
     "data": {
      "text/plain": [
       "New York               923\n",
       "Brooklyn               741\n",
       "Houston                716\n",
       "Chicago                649\n",
       "Los Angeles            623\n",
       "                      ... \n",
       "Honokaa                  1\n",
       "Dry Ridge                1\n",
       "Chiang Mai               1\n",
       "South El Monte           1\n",
       "La Grange Highlands      1\n",
       "Name: Prscrbr_City, Length: 7038, dtype: int64"
      ]
     },
     "execution_count": 29,
     "metadata": {},
     "output_type": "execute_result"
    },
    {
     "data": {
      "text/plain": [
       "CA    9377\n",
       "FL    6806\n",
       "NY    6748\n",
       "TX    6462\n",
       "PA    5049\n",
       "OH    4091\n",
       "MI    3609\n",
       "NC    3575\n",
       "IL    3429\n",
       "GA    2940\n",
       "NJ    2657\n",
       "TN    2646\n",
       "MA    2420\n",
       "IN    2247\n",
       "MO    2182\n",
       "VA    2178\n",
       "WA    1993\n",
       "KY    1896\n",
       "WI    1870\n",
       "MN    1764\n",
       "AZ    1736\n",
       "AL    1670\n",
       "SC    1648\n",
       "LA    1579\n",
       "MD    1463\n",
       "CO    1361\n",
       "PR    1315\n",
       "OR    1309\n",
       "OK    1233\n",
       "CT    1182\n",
       "AR    1159\n",
       "IA    1144\n",
       "MS    1005\n",
       "KS     937\n",
       "WV     775\n",
       "NV     678\n",
       "NE     626\n",
       "UT     566\n",
       "ME     549\n",
       "NM     541\n",
       "ID     490\n",
       "NH     488\n",
       "MT     390\n",
       "RI     378\n",
       "DE     319\n",
       "SD     308\n",
       "HI     274\n",
       "ND     246\n",
       "VT     216\n",
       "DC     154\n",
       "WY     151\n",
       "AK     130\n",
       "VI      20\n",
       "GU      10\n",
       "ZZ       5\n",
       "AE       2\n",
       "AP       2\n",
       "MP       1\n",
       "AA       1\n",
       "Name: Prscrbr_State_Abrvtn, dtype: int64"
      ]
     },
     "execution_count": 29,
     "metadata": {},
     "output_type": "execute_result"
    },
    {
     "data": {
      "text/plain": [
       "6     8087\n",
       "12    5789\n",
       "36    5696\n",
       "48    5535\n",
       "42    4322\n",
       "      ... \n",
       "9C       2\n",
       "9B       2\n",
       "78       1\n",
       "69       1\n",
       "9A       1\n",
       "Name: Prscrbr_State_FIPS, Length: 112, dtype: int64"
      ]
     },
     "execution_count": 29,
     "metadata": {},
     "output_type": "execute_result"
    },
    {
     "data": {
      "text/plain": [
       "Family Practice                             27297\n",
       "Internal Medicine                           24042\n",
       "Nurse Practitioner                          15133\n",
       "Physician Assistant                          6213\n",
       "Cardiology                                   3023\n",
       "                                            ...  \n",
       "Midwife                                         1\n",
       "Naprapath                                       1\n",
       "Counselor                                       1\n",
       "Religious Nonmedical Nursing Personnel          1\n",
       "Medical Genetics, Ph.D. Medical Genetics        1\n",
       "Name: Prscrbr_Type, Length: 101, dtype: int64"
      ]
     },
     "execution_count": 29,
     "metadata": {},
     "output_type": "execute_result"
    },
    {
     "data": {
      "text/plain": [
       "S    98147\n",
       "T     1853\n",
       "Name: Prscrbr_Type_Src, dtype: int64"
      ]
     },
     "execution_count": 29,
     "metadata": {},
     "output_type": "execute_result"
    },
    {
     "data": {
      "text/plain": [
       "Atorvastatin Calcium    1283\n",
       "Gabapentin              1232\n",
       "Lisinopril              1174\n",
       "Amlodipine Besylate     1134\n",
       "Omeprazole              1081\n",
       "                        ... \n",
       "Adderall                   1\n",
       "Depo-Medrol                1\n",
       "Evotaz                     1\n",
       "Droplet Pen Needle         1\n",
       "Hyzaar                     1\n",
       "Name: Brnd_Name, Length: 1430, dtype: int64"
      ]
     },
     "execution_count": 29,
     "metadata": {},
     "output_type": "execute_result"
    },
    {
     "data": {
      "text/plain": [
       "Albuterol Sulfate       1440\n",
       "Metformin Hcl           1422\n",
       "Levothyroxine Sodium    1397\n",
       "Atorvastatin Calcium    1288\n",
       "Gabapentin              1241\n",
       "                        ... \n",
       "Alogliptin Benzoate        1\n",
       "Codeine Sulfate            1\n",
       "Bosutinib                  1\n",
       "Ibalizumab-Uiyk            1\n",
       "Lithium Citrate            1\n",
       "Name: Gnrc_Name, Length: 976, dtype: int64"
      ]
     },
     "execution_count": 29,
     "metadata": {},
     "output_type": "execute_result"
    },
    {
     "data": {
      "text/plain": [
       "NaN    54971\n",
       "#      31053\n",
       "*      13976\n",
       "Name: GE65_Sprsn_Flag, dtype: int64"
      ]
     },
     "execution_count": 29,
     "metadata": {},
     "output_type": "execute_result"
    },
    {
     "data": {
      "text/plain": [
       "*      62414\n",
       "#      27493\n",
       "NaN    10093\n",
       "Name: GE65_Bene_Sprsn_Flag, dtype: int64"
      ]
     },
     "execution_count": 29,
     "metadata": {},
     "output_type": "execute_result"
    }
   ],
   "source": [
    "for val in cat_vals:\n",
    "    df_subset[val].value_counts(dropna=False)\n",
    "    "
   ]
  },
  {
   "cell_type": "markdown",
   "metadata": {},
   "source": [
    "## Inferences/notes\n",
    "- “*” = Primary suppressed due to bene_count_ge65 between 1 and 10.\n",
    "- “#” = Counter suppressed because the “less than 65 year old” group (not explicitly displayed)\n",
    "    contains a beneficiary count between 1 and 10, which can be mathematically determined\n",
    "    from bene_count_ge65 and bene_count.\n",
    "    \n",
    "    \n"
   ]
  },
  {
   "cell_type": "markdown",
   "metadata": {},
   "source": [
    "## 2. Univariate Analysis numerical variables "
   ]
  },
  {
   "cell_type": "code",
   "execution_count": 33,
   "metadata": {},
   "outputs": [],
   "source": [
    "## Converting the float64 to float type \n",
    "df_subset['Tot_Clms']=df_subset['Tot_Clms'].astype(float)\n",
    "df_subset['Tot_Day_Suply']=df_subset['Tot_Day_Suply'].astype(float)"
   ]
  },
  {
   "cell_type": "code",
   "execution_count": 34,
   "metadata": {},
   "outputs": [
    {
     "name": "stdout",
     "output_type": "stream",
     "text": [
      "<class 'pandas.core.frame.DataFrame'>\n",
      "Int64Index: 100000 entries, 5153867 to 3297812\n",
      "Data columns (total 22 columns):\n",
      " #   Column                 Non-Null Count   Dtype  \n",
      "---  ------                 --------------   -----  \n",
      " 0   Prscrbr_NPI            100000 non-null  int64  \n",
      " 1   Prscrbr_Last_Org_Name  100000 non-null  object \n",
      " 2   Prscrbr_First_Name     100000 non-null  object \n",
      " 3   Prscrbr_City           100000 non-null  object \n",
      " 4   Prscrbr_State_Abrvtn   100000 non-null  object \n",
      " 5   Prscrbr_State_FIPS     100000 non-null  object \n",
      " 6   Prscrbr_Type           100000 non-null  object \n",
      " 7   Prscrbr_Type_Src       100000 non-null  object \n",
      " 8   Brnd_Name              100000 non-null  object \n",
      " 9   Gnrc_Name              100000 non-null  object \n",
      " 10  Tot_Clms               100000 non-null  float64\n",
      " 11  Tot_30day_Fills        100000 non-null  float64\n",
      " 12  Tot_Day_Suply          100000 non-null  float64\n",
      " 13  Tot_Drug_Cst           100000 non-null  float64\n",
      " 14  Tot_Benes              42080 non-null   float64\n",
      " 15  GE65_Sprsn_Flag        45029 non-null   object \n",
      " 16  GE65_Tot_Clms          54971 non-null   float64\n",
      " 17  GE65_Tot_30day_Fills   54971 non-null   float64\n",
      " 18  GE65_Tot_Drug_Cst      54971 non-null   float64\n",
      " 19  GE65_Tot_Day_Suply     54971 non-null   float64\n",
      " 20  GE65_Bene_Sprsn_Flag   89907 non-null   object \n",
      " 21  GE65_Tot_Benes         10093 non-null   float64\n",
      "dtypes: float64(10), int64(1), object(11)\n",
      "memory usage: 17.5+ MB\n"
     ]
    }
   ],
   "source": [
    "df_subset.info()"
   ]
  },
  {
   "cell_type": "code",
   "execution_count": 35,
   "metadata": {},
   "outputs": [
    {
     "data": {
      "text/plain": [
       "['Tot_Clms',\n",
       " 'Tot_30day_Fills',\n",
       " 'Tot_Day_Suply',\n",
       " 'Tot_Drug_Cst',\n",
       " 'Tot_Benes',\n",
       " 'GE65_Tot_Clms',\n",
       " 'GE65_Tot_30day_Fills',\n",
       " 'GE65_Tot_Drug_Cst',\n",
       " 'GE65_Tot_Day_Suply',\n",
       " 'GE65_Tot_Benes']"
      ]
     },
     "execution_count": 35,
     "metadata": {},
     "output_type": "execute_result"
    }
   ],
   "source": [
    "num_vals = df_subset.select_dtypes(include=['float64']).columns\n",
    "num_vals=num_vals.to_list()\n",
    "num_vals"
   ]
  },
  {
   "cell_type": "code",
   "execution_count": 68,
   "metadata": {
    "scrolled": false
   },
   "outputs": [
    {
     "name": "stdout",
     "output_type": "stream",
     "text": [
      "count    100000.000000\n",
      "mean         50.796290\n",
      "std          98.701427\n",
      "min          11.000000\n",
      "25%          15.000000\n",
      "50%          24.000000\n",
      "70%          42.000000\n",
      "75%          50.000000\n",
      "max       11268.000000\n",
      "Name: Tot_Clms, dtype: float64\n"
     ]
    },
    {
     "data": {
      "text/plain": [
       "Text(0.5, 1.0, 'Tot_Clms')"
      ]
     },
     "execution_count": 68,
     "metadata": {},
     "output_type": "execute_result"
    },
    {
     "data": {
      "image/png": "[encoded data removed]",
      "text/plain": [
       "<Figure size 432x288 with 1 Axes>"
      ]
     },
     "metadata": {},
     "output_type": "display_data"
    },
    {
     "name": "stdout",
     "output_type": "stream",
     "text": [
      "count    100000.000000\n",
      "mean         86.489127\n",
      "std         166.338791\n",
      "min          11.000000\n",
      "25%          21.000000\n",
      "50%          38.000000\n",
      "70%          67.000000\n",
      "75%          82.000000\n",
      "max       11270.800000\n",
      "Name: Tot_30day_Fills, dtype: float64\n"
     ]
    },
    {
     "data": {
      "text/plain": [
       "Text(0.5, 1.0, 'Tot_30day_Fills')"
      ]
     },
     "execution_count": 68,
     "metadata": {},
     "output_type": "execute_result"
    },
    {
     "data": {
      "image/png": "[encoded data removed]",
      "text/plain": [
       "<Figure size 432x288 with 1 Axes>"
      ]
     },
     "metadata": {},
     "output_type": "display_data"
    },
    {
     "name": "stdout",
     "output_type": "stream",
     "text": [
      "count    100000.000000\n",
      "mean       2428.961120\n",
      "std        4802.612252\n",
      "min          11.000000\n",
      "25%         480.000000\n",
      "50%        1020.000000\n",
      "70%        1890.000000\n",
      "75%        2291.000000\n",
      "max      292609.000000\n",
      "Name: Tot_Day_Suply, dtype: float64\n"
     ]
    },
    {
     "data": {
      "text/plain": [
       "Text(0.5, 1.0, 'Tot_Day_Suply')"
      ]
     },
     "execution_count": 68,
     "metadata": {},
     "output_type": "execute_result"
    },
    {
     "data": {
      "image/png": "[encoded data removed]",
      "text/plain": [
       "<Figure size 432x288 with 1 Axes>"
      ]
     },
     "metadata": {},
     "output_type": "display_data"
    },
    {
     "name": "stdout",
     "output_type": "stream",
     "text": [
      "count    1.000000e+05\n",
      "mean     5.440232e+03\n",
      "std      3.767354e+04\n",
      "min      8.700000e-01\n",
      "25%      2.630800e+02\n",
      "50%      6.750700e+02\n",
      "70%      1.617720e+03\n",
      "75%      2.203350e+03\n",
      "max      4.636191e+06\n",
      "Name: Tot_Drug_Cst, dtype: float64\n"
     ]
    },
    {
     "data": {
      "text/plain": [
       "Text(0.5, 1.0, 'Tot_Drug_Cst')"
      ]
     },
     "execution_count": 68,
     "metadata": {},
     "output_type": "execute_result"
    },
    {
     "data": {
      "image/png": "[encoded data removed]",
      "text/plain": [
       "<Figure size 432x288 with 1 Axes>"
      ]
     },
     "metadata": {},
     "output_type": "display_data"
    },
    {
     "name": "stdout",
     "output_type": "stream",
     "text": [
      "count    42080.000000\n",
      "mean        29.833674\n",
      "std         31.248334\n",
      "min         11.000000\n",
      "25%         14.000000\n",
      "50%         20.000000\n",
      "70%         29.000000\n",
      "75%         33.000000\n",
      "max        999.000000\n",
      "Name: Tot_Benes, dtype: float64\n"
     ]
    },
    {
     "data": {
      "text/plain": [
       "Text(0.5, 1.0, 'Tot_Benes')"
      ]
     },
     "execution_count": 68,
     "metadata": {},
     "output_type": "execute_result"
    },
    {
     "data": {
      "image/png": "[encoded data removed]",
      "text/plain": [
       "<Figure size 432x288 with 1 Axes>"
      ]
     },
     "metadata": {},
     "output_type": "display_data"
    },
    {
     "name": "stdout",
     "output_type": "stream",
     "text": [
      "count    54971.000000\n",
      "mean        49.638027\n",
      "std        101.070761\n",
      "min          0.000000\n",
      "25%         13.000000\n",
      "50%         22.000000\n",
      "70%         38.000000\n",
      "75%         47.000000\n",
      "max       9771.000000\n",
      "Name: GE65_Tot_Clms, dtype: float64\n"
     ]
    },
    {
     "data": {
      "text/plain": [
       "Text(0.5, 1.0, 'GE65_Tot_Clms')"
      ]
     },
     "execution_count": 68,
     "metadata": {},
     "output_type": "execute_result"
    },
    {
     "data": {
      "image/png": "[encoded data removed]",
      "text/plain": [
       "<Figure size 432x288 with 1 Axes>"
      ]
     },
     "metadata": {},
     "output_type": "display_data"
    },
    {
     "name": "stdout",
     "output_type": "stream",
     "text": [
      "count    54971.000000\n",
      "mean        88.000500\n",
      "std        178.588146\n",
      "min          0.000000\n",
      "25%         18.000000\n",
      "50%         36.000000\n",
      "70%         65.000000\n",
      "75%         80.000000\n",
      "max       9773.700000\n",
      "Name: GE65_Tot_30day_Fills, dtype: float64\n"
     ]
    },
    {
     "data": {
      "text/plain": [
       "Text(0.5, 1.0, 'GE65_Tot_30day_Fills')"
      ]
     },
     "execution_count": 68,
     "metadata": {},
     "output_type": "execute_result"
    },
    {
     "data": {
      "image/png": "[encoded data removed]",
      "text/plain": [
       "<Figure size 432x288 with 1 Axes>"
      ]
     },
     "metadata": {},
     "output_type": "display_data"
    },
    {
     "name": "stdout",
     "output_type": "stream",
     "text": [
      "count    5.497100e+04\n",
      "mean     4.912740e+03\n",
      "std      3.235160e+04\n",
      "min      0.000000e+00\n",
      "25%      2.272850e+02\n",
      "50%      6.264900e+02\n",
      "70%      1.533000e+03\n",
      "75%      2.083810e+03\n",
      "max      2.907677e+06\n",
      "Name: GE65_Tot_Drug_Cst, dtype: float64\n"
     ]
    },
    {
     "data": {
      "text/plain": [
       "Text(0.5, 1.0, 'GE65_Tot_Drug_Cst')"
      ]
     },
     "execution_count": 68,
     "metadata": {},
     "output_type": "execute_result"
    },
    {
     "data": {
      "image/png": "[encoded data removed]",
      "text/plain": [
       "<Figure size 432x288 with 1 Axes>"
      ]
     },
     "metadata": {},
     "output_type": "display_data"
    },
    {
     "name": "stdout",
     "output_type": "stream",
     "text": [
      "count     54971.000000\n",
      "mean       2504.099343\n",
      "std        5113.856569\n",
      "min           0.000000\n",
      "25%         425.000000\n",
      "50%         990.000000\n",
      "70%        1830.000000\n",
      "75%        2250.000000\n",
      "max      203560.000000\n",
      "Name: GE65_Tot_Day_Suply, dtype: float64\n"
     ]
    },
    {
     "data": {
      "text/plain": [
       "Text(0.5, 1.0, 'GE65_Tot_Day_Suply')"
      ]
     },
     "execution_count": 68,
     "metadata": {},
     "output_type": "execute_result"
    },
    {
     "data": {
      "image/png": "[encoded data removed]",
      "text/plain": [
       "<Figure size 432x288 with 1 Axes>"
      ]
     },
     "metadata": {},
     "output_type": "display_data"
    },
    {
     "name": "stdout",
     "output_type": "stream",
     "text": [
      "count    10093.000000\n",
      "mean        32.399485\n",
      "std         39.604552\n",
      "min          0.000000\n",
      "25%         13.000000\n",
      "50%         19.000000\n",
      "70%         29.000000\n",
      "75%         34.000000\n",
      "max        797.000000\n",
      "Name: GE65_Tot_Benes, dtype: float64\n"
     ]
    },
    {
     "data": {
      "text/plain": [
       "Text(0.5, 1.0, 'GE65_Tot_Benes')"
      ]
     },
     "execution_count": 68,
     "metadata": {},
     "output_type": "execute_result"
    },
    {
     "data": {
      "image/png": "[encoded data removed]",
      "text/plain": [
       "<Figure size 432x288 with 1 Axes>"
      ]
     },
     "metadata": {},
     "output_type": "display_data"
    }
   ],
   "source": [
    "sns.set(style=\"darkgrid\")\n",
    "for vals in num_vals:\n",
    "    print(df_subset[vals].describe(percentiles=[.25,.50,.70,.75]))\n",
    "    ax = sns.boxplot(y=df_subset[vals],showfliers=False) ## keeping showfliers=False just to see the meadian value and the data distibution \n",
    "    plt.title(vals, weight='bold', FontSize = 16)\n",
    "    plt.show();\n",
    "    "
   ]
  },
  {
   "cell_type": "markdown",
   "metadata": {},
   "source": [
    "## Inferences"
   ]
  },
  {
   "cell_type": "code",
   "execution_count": null,
   "metadata": {},
   "outputs": [],
   "source": []
  },
  {
   "cell_type": "code",
   "execution_count": null,
   "metadata": {},
   "outputs": [],
   "source": []
  },
  {
   "cell_type": "markdown",
   "metadata": {},
   "source": [
    "## Univariate - categorical Variables"
   ]
  },
  {
   "cell_type": "code",
   "execution_count": 81,
   "metadata": {},
   "outputs": [],
   "source": [
    "## copy the dataset and segrigate to see the spread by clubbing catagories with lessthan equalto 5% into group others \n",
    "df_cpy =df_subset.copy()"
   ]
  },
  {
   "cell_type": "code",
   "execution_count": 82,
   "metadata": {},
   "outputs": [],
   "source": [
    "def Segrigate (Val,threshold =0.05):\n",
    "    \n",
    "    df_cpy[Val].value_counts(dropna=False,normalize=True)\n",
    "    plt.figure(figsize=(5, 5))\n",
    "    count_df= df_cpy[Val].value_counts(dropna=False,normalize=True)\n",
    "    count_df=count_df.to_frame()\n",
    "    count_df=count_df[count_df[Val]<threshold]\n",
    "    to_replace= count_df.index\n",
    "    to_replace\n",
    "    df_cpy[Val] = df_cpy[Val].replace(to_replace, 'Others')\n",
    "    df_cpy[Val] = df_cpy[Val].astype('object')\n",
    "    df_cpy[Val].value_counts(dropna=False,normalize=True).plot(kind='bar',color='turquoise',legend=True,fontsize=11,grid=True);"
   ]
  },
  {
   "cell_type": "code",
   "execution_count": 83,
   "metadata": {},
   "outputs": [
    {
     "data": {
      "text/plain": [
       "['Prscrbr_Last_Org_Name',\n",
       " 'Prscrbr_First_Name',\n",
       " 'Prscrbr_City',\n",
       " 'Prscrbr_State_Abrvtn',\n",
       " 'Prscrbr_State_FIPS',\n",
       " 'Prscrbr_Type',\n",
       " 'Prscrbr_Type_Src',\n",
       " 'Brnd_Name',\n",
       " 'Gnrc_Name',\n",
       " 'GE65_Sprsn_Flag',\n",
       " 'GE65_Bene_Sprsn_Flag']"
      ]
     },
     "execution_count": 83,
     "metadata": {},
     "output_type": "execute_result"
    }
   ],
   "source": [
    "cat_vals"
   ]
  },
  {
   "cell_type": "code",
   "execution_count": null,
   "metadata": {},
   "outputs": [],
   "source": []
  }
 ],
 "metadata": {
  "kernelspec": {
   "display_name": "Python 3",
   "language": "python",
   "name": "python3"
  },
  "language_info": {
   "codemirror_mode": {
    "name": "ipython",
    "version": 3
   },
   "file_extension": ".py",
   "mimetype": "text/x-python",
   "name": "python",
   "nbconvert_exporter": "python",
   "pygments_lexer": "ipython3",
   "version": "3.8.3"
  }
 },
 "nbformat": 4,
 "nbformat_minor": 4
}
